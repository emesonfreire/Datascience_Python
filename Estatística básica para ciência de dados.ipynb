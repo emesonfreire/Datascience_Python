{
 "cells": [
  {
   "cell_type": "code",
   "execution_count": 26,
   "id": "a4047371",
   "metadata": {},
   "outputs": [],
   "source": [
    "import pandas as pd"
   ]
  },
  {
   "cell_type": "code",
   "execution_count": 27,
   "id": "bd6bb339",
   "metadata": {},
   "outputs": [],
   "source": [
    "import matplotlib.pyplot as plt"
   ]
  },
  {
   "cell_type": "code",
   "execution_count": 28,
   "id": "0d3250dd",
   "metadata": {},
   "outputs": [],
   "source": [
    "import numpy as np"
   ]
  },
  {
   "cell_type": "code",
   "execution_count": 29,
   "id": "75bd9aea",
   "metadata": {},
   "outputs": [],
   "source": [
    "import statistics"
   ]
  },
  {
   "cell_type": "markdown",
   "id": "c40fc737",
   "metadata": {},
   "source": [
    "# fundamentos de estatísticas básica"
   ]
  },
  {
   "cell_type": "markdown",
   "id": "ebad411c",
   "metadata": {},
   "source": [
    " # 1. medidas de posição"
   ]
  },
  {
   "cell_type": "markdown",
   "id": "7bb05267",
   "metadata": {},
   "source": [
    "média aritimétrica simples\n",
    "\n",
    ".soma dos elementos de um conjunto de dados divididos pelo numero total de elementos desse cojunto.\n",
    "\n"
   ]
  },
  {
   "cell_type": "markdown",
   "id": "c17bb835",
   "metadata": {},
   "source": [
    "Exemplo1: vamos calcular a média de aluno na disciplina de matemática. AS NOTAS DO ALUNO FORAM : 7,8,6,10.\n",
    "\n",
    "Exemplo2: considere o índice de endividamento de empresas: 25%,51%,76%,41%,55%13%, calculemos a média do endividamentodestas empresas:"
   ]
  },
  {
   "cell_type": "markdown",
   "id": "08a5bfb9",
   "metadata": {},
   "source": [
    "IMPLEMENTAÇÃO EM PYTHON:"
   ]
  },
  {
   "cell_type": "markdown",
   "id": "a5f184f9",
   "metadata": {},
   "source": []
  },
  {
   "cell_type": "markdown",
   "id": "92bf33dd",
   "metadata": {},
   "source": []
  },
  {
   "cell_type": "code",
   "execution_count": 9,
   "id": "aad04ab2",
   "metadata": {},
   "outputs": [
    {
     "name": "stdout",
     "output_type": "stream",
     "text": [
      "A Média do aluno foi : 7.75\n"
     ]
    }
   ],
   "source": [
    "#exempplo1\n",
    "notas = [7,8,6,10]\n",
    "soma= sum(notas)\n",
    "media = soma/len(notas)\n",
    "print(f'A Média do aluno foi : {media}')"
   ]
  },
  {
   "cell_type": "code",
   "execution_count": 12,
   "id": "9e7df31e",
   "metadata": {},
   "outputs": [],
   "source": [
    "#exemplo2\n",
    "endividamento = [25,51,76,41,55,13]"
   ]
  },
  {
   "cell_type": "code",
   "execution_count": 17,
   "id": "c9aebf8e",
   "metadata": {},
   "outputs": [
    {
     "name": "stdout",
     "output_type": "stream",
     "text": [
      "A Média do endividamento  foi : 43.5%\n"
     ]
    }
   ],
   "source": [
    "def calcula_media(vetor):\n",
    "    return sum(vetor)/len (vetor)\n",
    "print(f'A Média do endividamento  foi : {calcula_media(endividamento)}%')"
   ]
  },
  {
   "cell_type": "markdown",
   "id": "c1928829",
   "metadata": {},
   "source": [
    " ° A média é sensivel a valores extremos.\n",
    "     exemplo3: Vamos supor que uma loja registrou o seguinte resultado quanto a venda de 4 produtos, em determinado dia : R$ 10,R$ 17, R$ 13,R$ 100. calculemos a média."
   ]
  },
  {
   "cell_type": "raw",
   "id": "686dade9",
   "metadata": {},
   "source": []
  },
  {
   "cell_type": "code",
   "execution_count": 20,
   "id": "c47b5636",
   "metadata": {},
   "outputs": [],
   "source": [
    "vendas = [10,17,13,100]"
   ]
  },
  {
   "cell_type": "code",
   "execution_count": 21,
   "id": "0703d4de",
   "metadata": {},
   "outputs": [
    {
     "name": "stdout",
     "output_type": "stream",
     "text": [
      "A Média das vendas  foram : 35.0R$\n"
     ]
    }
   ],
   "source": [
    "print(f'A Média das vendas  foram : {calcula_media(vendas)}R$')"
   ]
  },
  {
   "cell_type": "markdown",
   "id": "246c9cc5",
   "metadata": {},
   "source": [
    "Média aritimétrica Ponderada\n",
    "\n",
    "atribui pesos diferentespara cada elemento do conjunto de dados.\n",
    "\n",
    "Com base nos fatores  de ponderação (q1,q2,q3... qn) podemos definir a média ponderada como:\n",
    "\n",
    "\n",
    "# Média Aritmética Ponderada\n",
    "A média aritmética ponderada é calculada multiplicando cada valor do conjunto de dados pelo seu peso.\n",
    "\n",
    "Depois, encontra-se a soma desses valores que será dividida pela soma dos pesos.\n",
    "\n",
    "Fórmula\n",
    "Fórmula média aritmética ponderada\n",
    "\n",
    "Onde,\n",
    "\n",
    "Mp: Média aritmética ponderada\n",
    "p1, p2,..., pn: pesos\n",
    "x1, x2,...,xn: valores dos dados\n",
    "\n",
    "exemplo 4: Considere umestudante que realizou  o ENEM  para tentar ingressar  no curso de Ciência da Computação. O aluno obteve  as seguintes notas (com os respectivos pesos de cada prova): \n",
    "\n",
    "°matemática e suas tecnologias:718,91(peso 5)\n",
    "°ciências da natureza e suas tecnologias:521,33(peso2)\n",
    "°ciencias humanase suas tecnologias:627,9(peso2)\n",
    "°linguanges e códigose suas tecnologias:610,12(peso4):\n",
    "°Redação:930 (peso5).\n",
    "\n",
    "Xp =(718,91*5+521,33*2+627,9*2+610,12*4+930*5)/18 = 721,305"
   ]
  },
  {
   "cell_type": "markdown",
   "id": "6b795fcb",
   "metadata": {},
   "source": []
  },
  {
   "cell_type": "markdown",
   "id": "02cbf4bc",
   "metadata": {},
   "source": []
  },
  {
   "cell_type": "code",
   "execution_count": 30,
   "id": "917c0971",
   "metadata": {},
   "outputs": [],
   "source": [
    "notas = [718.91,521.33,627.9,610.12,930]\n",
    "pesos = [5,2,2,4,5]\n"
   ]
  },
  {
   "cell_type": "code",
   "execution_count": 31,
   "id": "4682227f",
   "metadata": {},
   "outputs": [
    {
     "data": {
      "text/plain": [
       "721.305"
      ]
     },
     "execution_count": 31,
     "metadata": {},
     "output_type": "execute_result"
    }
   ],
   "source": [
    "np.average(notas, weights = pesos)"
   ]
  },
  {
   "cell_type": "markdown",
   "id": "6f24e3ee",
   "metadata": {},
   "source": [
    "# MEDIANA\n",
    "\n",
    "valor que divide o conjunto de dados em duas partes iguais\n",
    "precisamos ordenar o conjunto de dados\n",
    "\n",
    "Regra:\n",
    "tamanho do conjunto de dados impar: a mediana  será o valor central;\n",
    "tamanho do conjunto de dados par: a mediana  será  a média aritimétrica dos dois  valores centrais.\n",
    "\n",
    "Exemplo 5: vamos calcular a mediana  da idade  de um conjunto de pessoas .Vamos considerar dois conjuntos:\n",
    "\n",
    "A = {87,13,11,10,10}\n",
    "B = {23,31,17,18}\n",
    "\n",
    "para o conjunto A :\n",
    "\n",
    "A = {10,10,11,13,87}\n",
    "\n",
    "Md(A) = 11\n",
    "\n",
    "Para o conjunto B :\n",
    " B = {17,18,23,31}\n",
    " \n",
    " Md(B)=(18+23)/2=20.5\n",
    " \n",
    " Implementação em Python:\n"
   ]
  },
  {
   "cell_type": "code",
   "execution_count": 32,
   "id": "71a4c7ff",
   "metadata": {},
   "outputs": [],
   "source": [
    "conjunto_A = [10,13,11,10,87]\n",
    "conjunto_B = [23,31,17,18]"
   ]
  },
  {
   "cell_type": "code",
   "execution_count": 39,
   "id": "f97f5b28",
   "metadata": {},
   "outputs": [
    {
     "data": {
      "text/plain": [
       "11.0"
      ]
     },
     "execution_count": 39,
     "metadata": {},
     "output_type": "execute_result"
    }
   ],
   "source": [
    "np.median(conjunto_A) #função de mediana"
   ]
  },
  {
   "cell_type": "code",
   "execution_count": 40,
   "id": "c671c872",
   "metadata": {},
   "outputs": [
    {
     "data": {
      "text/plain": [
       "20.5"
      ]
     },
     "execution_count": 40,
     "metadata": {},
     "output_type": "execute_result"
    }
   ],
   "source": [
    "np.median(conjunto_B)"
   ]
  },
  {
   "cell_type": "code",
   "execution_count": 41,
   "id": "f892b427",
   "metadata": {},
   "outputs": [
    {
     "data": {
      "text/plain": [
       "26.2"
      ]
     },
     "execution_count": 41,
     "metadata": {},
     "output_type": "execute_result"
    }
   ],
   "source": [
    "np.mean(conjunto_A)\n"
   ]
  },
  {
   "cell_type": "code",
   "execution_count": 42,
   "id": "f04b80c9",
   "metadata": {},
   "outputs": [
    {
     "data": {
      "text/plain": [
       "22.25"
      ]
     },
     "execution_count": 42,
     "metadata": {},
     "output_type": "execute_result"
    }
   ],
   "source": [
    "np.mean(conjunto_B)  #função de media"
   ]
  },
  {
   "cell_type": "markdown",
   "id": "0436d1e4",
   "metadata": {},
   "source": [
    "\n",
    "# MODA"
   ]
  },
  {
   "cell_type": "code",
   "execution_count": null,
   "id": "8a3242db",
   "metadata": {},
   "outputs": [],
   "source": []
  }
 ],
 "metadata": {
  "kernelspec": {
   "display_name": "Python 3 (ipykernel)",
   "language": "python",
   "name": "python3"
  },
  "language_info": {
   "codemirror_mode": {
    "name": "ipython",
    "version": 3
   },
   "file_extension": ".py",
   "mimetype": "text/x-python",
   "name": "python",
   "nbconvert_exporter": "python",
   "pygments_lexer": "ipython3",
   "version": "3.9.7"
  }
 },
 "nbformat": 4,
 "nbformat_minor": 5
}

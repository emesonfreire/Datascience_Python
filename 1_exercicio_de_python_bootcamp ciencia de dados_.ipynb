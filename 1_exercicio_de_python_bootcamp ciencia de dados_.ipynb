{
  "nbformat": 4,
  "nbformat_minor": 0,
  "metadata": {
    "colab": {
      "name": "1 exercicio de python bootcamp .ipynb",
      "provenance": [],
      "authorship_tag": "ABX9TyMb6QnG5b60hoQr/gLHaVMc",
      "include_colab_link": true
    },
    "kernelspec": {
      "name": "python3",
      "display_name": "Python 3"
    },
    "language_info": {
      "name": "python"
    }
  },
  "cells": [
    {
      "cell_type": "markdown",
      "metadata": {
        "id": "view-in-github",
        "colab_type": "text"
      },
      "source": [
        "<a href=\"https://colab.research.google.com/github/emesonfreire/Datascience_Python/blob/main/1_exercicio_de_python_bootcamp%20ciencia%20de%20dados_.ipynb\" target=\"_parent\"><img src=\"https://colab.research.google.com/assets/colab-badge.svg\" alt=\"Open In Colab\"/></a>"
      ]
    },
    {
      "cell_type": "code",
      "execution_count": 2,
      "metadata": {
        "colab": {
          "base_uri": "https://localhost:8080/"
        },
        "id": "udvoItlSDv2u",
        "outputId": "85a792eb-4428-450c-aa5a-db35534167d6"
      },
      "outputs": [
        {
          "output_type": "stream",
          "name": "stdout",
          "text": [
            "Qual o seu nome?  EMESON\n",
            "Qual o seu sobrenome?  FREIRE\n",
            "Bem vindo EMESON FREIRE!\n"
          ]
        }
      ],
      "source": [
        "#EXERCICIO 1 ° Bem vindo ao usuário\n",
        "\n",
        "\"\"\"Faça um programa na qual o usuário ira´\n",
        "inserir seu nome e sobrenome.\n",
        "Depois imprima a mensagem\n",
        "“Bem vindo (Nome) (Sobrenome)” \"\"\"\n",
        "\n",
        "nome = input(\"Qual o seu nome?  \" )\n",
        "sobrenome = input(\"Qual o seu sobrenome?  \" )\n",
        "print(f\"Bem vindo {nome} {sobrenome}!\")\n"
      ]
    },
    {
      "cell_type": "code",
      "source": [
        "#2° EXERCÍCIO \n",
        "\"\"\"Faça um programa para receber dois\n",
        "valores do usuário e depois faça a divisão.\n",
        "Depois imprima a mensagem na tela para\n",
        "o usuário.\n",
        "Detalhe faça o arredondamento\n",
        "de 2 casas decimais.\"\"\"\n",
        "\n",
        "valor1 = int (input(\"Digite o 1° número \"))\n",
        "valor2 = int (input(\"Digite o 2° número \"))\n",
        "divisao = valor1 / valor2 \n",
        "print(f\"{valor1} / {valor2} = { round(divisao,2)}\")\n"
      ],
      "metadata": {
        "colab": {
          "base_uri": "https://localhost:8080/"
        },
        "id": "oc4fpIbvGI2U",
        "outputId": "676c5e23-648a-48b6-e954-53e97ce47328"
      },
      "execution_count": 6,
      "outputs": [
        {
          "output_type": "stream",
          "name": "stdout",
          "text": [
            "Digite o 1° número 6\n",
            "Digite o 2° número 7\n",
            "6 / 7 = 0.86\n"
          ]
        }
      ]
    },
    {
      "cell_type": "code",
      "source": [
        "#exercício 3 Concatenar informações\n",
        "\"\"\"Faça um programa para receber dois\n",
        "valores do usuário e depois concatene as\n",
        "informações.\n",
        "Mostre na tela para ele.\"\"\"\n",
        "\n",
        "valor_usuario1 = input(\"Primeiro valor \")\n",
        "valor_usuario2 = input(\"Segundo valor \")\n",
        "concatenacao = valor_usuario1 + valor_usuario2\n",
        "print(f\"Tipo da informação é : {concatenacao}\")\n",
        "\n"
      ],
      "metadata": {
        "colab": {
          "base_uri": "https://localhost:8080/"
        },
        "id": "o6rCNyn2FzHu",
        "outputId": "417cf134-3237-4136-e4b9-73005b5595d1"
      },
      "execution_count": 12,
      "outputs": [
        {
          "output_type": "stream",
          "name": "stdout",
          "text": [
            "Primeiro valor Odemir\n",
            "Segundo valor roots\n",
            "Tipo da informação é : Odemirroots\n"
          ]
        }
      ]
    },
    {
      "cell_type": "code",
      "source": [
        "#exercício 4 Sistema Educacional\n",
        "\n",
        "\"\"\"Faça um programa que receba 4 notas de\n",
        "provas, na qual o usuário precisa-la\n",
        "inserir.\n",
        "Depois informe a média das notas na tela\n",
        "para o usuário.\"\"\"\n",
        "\n",
        "nota1= float(input(\"Digite a 1° nota: \"))\n",
        "nota2= float(input(\"Digite a 2° nota: \"))\n",
        "nota3= float(input(\"Digite a 3° nota: \"))\n",
        "nota4= float(input(\"Digite a 4° nota: \"))\n",
        "\n",
        "media = (nota1 + nota2 + nota3 + nota4) / 4\n",
        "print(f\" A Média das Notas é : {round(media, 2 )}\") \n",
        "\n"
      ],
      "metadata": {
        "colab": {
          "base_uri": "https://localhost:8080/"
        },
        "id": "EFKL1s7IHvUX",
        "outputId": "10d6bd0f-6a36-4cfd-a43a-6bc448d47bcd"
      },
      "execution_count": 15,
      "outputs": [
        {
          "output_type": "stream",
          "name": "stdout",
          "text": [
            "Digite a 1° nota: 10\n",
            "Digite a 2° nota: 7.5\n",
            "Digite a 3° nota: 8\n",
            "Digite a 4° nota: 5.5\n",
            " A Média das Notas é : 7.75\n"
          ]
        }
      ]
    },
    {
      "cell_type": "code",
      "source": [
        ""
      ],
      "metadata": {
        "id": "heAhmBx0JhXT"
      },
      "execution_count": null,
      "outputs": []
    },
    {
      "cell_type": "code",
      "source": [
        "#exercício 5 Conversor de Medidas\n",
        "\n",
        "\"\"\"Faça um programa que receba valor em\n",
        "metros ... E precisara converter os metros\n",
        "para centímetros e milímetros.\n",
        "Lembre:\n",
        "Metro = 100 centímetros\n",
        "Metro = 1000 milímetros\"\"\"\n",
        "\n",
        "\n",
        "valorMetro = float(input(\"DIgite valor em Metros que deseja a conversão: \"))\n",
        "centimetro = valorMetro * 100\n",
        "milimetro = valorMetro * 1000\n",
        "\n",
        "print(f\"A medida em centímetros é: {centimetro}\")\n",
        "print(f\"A medida em milímetros é: {milimetro}\")\n",
        "\n"
      ],
      "metadata": {
        "colab": {
          "base_uri": "https://localhost:8080/"
        },
        "id": "uineN65ZK8Bd",
        "outputId": "3cdc22d3-70f2-40ed-d27f-147a6f550439"
      },
      "execution_count": 17,
      "outputs": [
        {
          "output_type": "stream",
          "name": "stdout",
          "text": [
            "DIgite valor em Metros que deseja a conversão: 50\n",
            "A medida em centímetros é: 5000.0\n",
            "A medida em milímetros é: 50000.0\n"
          ]
        }
      ]
    },
    {
      "cell_type": "code",
      "source": [
        "}"
      ],
      "metadata": {
        "id": "OFVOdk0BMJNH"
      },
      "execution_count": null,
      "outputs": []
    },
    {
      "cell_type": "code",
      "source": [
        "#exercício 6 Tabuada\n",
        "\"\"\"Faça um programa que receba um valor\n",
        "para ser calculada a tabuada ... E mostre\n",
        "todos os resultados até 10.\n",
        "exemplo:\"\"\"\n",
        "\n",
        "Valor_01 = int( input('Inserida o valor para ser calculado a Tabuada: '))\n",
        "\n",
        "print('*** Tabuada ***' )\n",
        "print('{} x {} = {}' .format( Valor_01, 1, Valor_01*1 ))\n",
        "print('{} x {} = {}' .format( Valor_01, 2, Valor_01*2 ))\n",
        "print('{} x {} = {}' .format( Valor_01, 3, Valor_01*3 ))\n",
        "print('{} x {} = {}' .format( Valor_01, 4, Valor_01*4 ))\n",
        "print('{} x {} = {}' .format( Valor_01, 5, Valor_01*5 ))\n",
        "print('{} x {} = {}' .format( Valor_01, 6, Valor_01*6 ))\n",
        "print('{} x {} = {}' .format( Valor_01, 7, Valor_01*7 ))\n",
        "print('{} x {} = {}' .format( Valor_01, 8, Valor_01*8 ))\n",
        "print('{} x {} = {}' .format( Valor_01, 9, Valor_01*9 ))\n",
        "print('{} x {} = {}' .format( Valor_01, 10, Valor_01*10 ))\n"
      ],
      "metadata": {
        "colab": {
          "base_uri": "https://localhost:8080/"
        },
        "id": "DQ6lwZFyMWAh",
        "outputId": "13eeb323-cb36-43ff-8f04-fa975de557c2"
      },
      "execution_count": 20,
      "outputs": [
        {
          "output_type": "stream",
          "name": "stdout",
          "text": [
            "Inserida o valor para ser calculado a Tabuada: 8\n",
            "*** Tabuada ***\n",
            "8 x 1 = 8\n",
            "8 x 2 = 16\n",
            "8 x 3 = 24\n",
            "8 x 4 = 32\n",
            "8 x 5 = 40\n",
            "8 x 6 = 48\n",
            "8 x 7 = 56\n",
            "8 x 8 = 64\n",
            "8 x 9 = 72\n",
            "8 x 10 = 80\n"
          ]
        }
      ]
    },
    {
      "cell_type": "code",
      "source": [
        ""
      ],
      "metadata": {
        "id": "K4bvyjYaOmaN"
      },
      "execution_count": null,
      "outputs": []
    },
    {
      "cell_type": "code",
      "source": [
        "#exercicio 7 Conversor de Moeda\n",
        "\n",
        "\"\"\"Faça um programa que o usuário\n",
        "converta o reais para dólar e euro.\n",
        "Premissas:\n",
        "Dólar está R$5,60\n",
        "Euro está R$6,20\"\"\"\n",
        "\n",
        "entradaMoeda = float(input(\"Digite valor em reais para a conversão em EURO e DÓLAR: \"))\n",
        "dolar = entradaMoeda/5.60\n",
        "euro = entradaMoeda/6.20\n",
        "print(f\"em Dólares daria: USD$ {round(dolar,2)}\" )\n",
        "print(f\"em EURO daria: EUR$ {round(euro,2)}\" )\n",
        "\n"
      ],
      "metadata": {
        "colab": {
          "base_uri": "https://localhost:8080/"
        },
        "id": "VGobEbLXPD_E",
        "outputId": "0456e85f-a414-428e-bd30-4828c741204a"
      },
      "execution_count": 25,
      "outputs": [
        {
          "output_type": "stream",
          "name": "stdout",
          "text": [
            "Digite valor em reais para a conversão em EURO e DÓLAR: 10.90\n",
            "em Dólares daria: USD$ 1.95\n",
            "em EURO daria: EUR$ 1.76\n"
          ]
        }
      ]
    },
    {
      "cell_type": "code",
      "source": [
        "#EXERCICIO 8 Sorteando um valor\n",
        "\"\"\"Faça um programa que irá receber 4\n",
        "nomes e inclua esses nomes em uma lista.\n",
        "Depois sorteei aleatória um nome na lista\n",
        "com a função: \n",
        "Import random\n",
        "random.choice(Sua_Lista)\"\"\"\n",
        "import random\n",
        "Nome1=input(\"Participante: \")\n",
        "Nome2=input(\"Participante: \")\n",
        "Nome3=input(\"Participante: \")\n",
        "Nome4=input(\"Participante: \")\n",
        "listanome=[]\n",
        "listanome.append(Nome1)\n",
        "listanome.append(Nome2)\n",
        "listanome.append(Nome3)\n",
        "listanome.append(Nome4)\n",
        "print(\"participante 1 : {listanome[0]}\")\n",
        "print(\"participante 2 : {listanome[1]}\")\n",
        "print(\"participante 3 : {listanome[2]}\")\n",
        "print(\"participante 4 : {listanome[3]}\")\n",
        "sorteio = random.choice(listanome)\n",
        "print(sorteio)\n",
        "\n"
      ],
      "metadata": {
        "colab": {
          "base_uri": "https://localhost:8080/"
        },
        "id": "dChvjORWQSOA",
        "outputId": "2895fe91-52a1-42be-ce29-9d3f3ff0a2b3"
      },
      "execution_count": 29,
      "outputs": [
        {
          "output_type": "stream",
          "name": "stdout",
          "text": [
            "Participante: ODEMIR\n",
            "Participante: PEDRO\n",
            "Participante: MARIA\n",
            "Participante: ALBERTA\n",
            "participante 1 : {listanome[0]}\n",
            "participante 2 : {listanome[1]}\n",
            "participante 3 : {listanome[2]}\n",
            "participante 4 : {listanome[3]}\n",
            "PEDRO\n"
          ]
        }
      ]
    },
    {
      "cell_type": "code",
      "source": [
        ""
      ],
      "metadata": {
        "id": "FOrmBHJtTK7a"
      },
      "execution_count": null,
      "outputs": []
    }
  ]
}
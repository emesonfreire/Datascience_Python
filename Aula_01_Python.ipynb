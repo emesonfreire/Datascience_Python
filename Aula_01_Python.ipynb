{
  "nbformat": 4,
  "nbformat_minor": 0,
  "metadata": {
    "colab": {
      "name": "Aula - 01 - Python.ipynb",
      "provenance": [],
      "collapsed_sections": [],
      "include_colab_link": true
    },
    "kernelspec": {
      "name": "python3",
      "display_name": "Python 3"
    },
    "language_info": {
      "name": "python"
    }
  },
  "cells": [
    {
      "cell_type": "markdown",
      "metadata": {
        "id": "view-in-github",
        "colab_type": "text"
      },
      "source": [
        "<a href=\"https://colab.research.google.com/github/emesonfreire/Datascience_Python/blob/main/Aula_01_Python.ipynb\" target=\"_parent\"><img src=\"https://colab.research.google.com/assets/colab-badge.svg\" alt=\"Open In Colab\"/></a>"
      ]
    },
    {
      "cell_type": "code",
      "execution_count": null,
      "metadata": {
        "colab": {
          "base_uri": "https://localhost:8080/",
          "height": 206
        },
        "id": "JyWuWZdAbxUX",
        "outputId": "49cfd469-630c-4d4d-cb7b-7e84327ca31c"
      },
      "outputs": [
        {
          "output_type": "execute_result",
          "data": {
            "text/html": [
              "\n",
              "  <div id=\"df-7a17d7b3-424d-4979-b0eb-b5af77285bcd\">\n",
              "    <div class=\"colab-df-container\">\n",
              "      <div>\n",
              "<style scoped>\n",
              "    .dataframe tbody tr th:only-of-type {\n",
              "        vertical-align: middle;\n",
              "    }\n",
              "\n",
              "    .dataframe tbody tr th {\n",
              "        vertical-align: top;\n",
              "    }\n",
              "\n",
              "    .dataframe thead th {\n",
              "        text-align: right;\n",
              "    }\n",
              "</style>\n",
              "<table border=\"1\" class=\"dataframe\">\n",
              "  <thead>\n",
              "    <tr style=\"text-align: right;\">\n",
              "      <th></th>\n",
              "      <th>Ranking</th>\n",
              "      <th>Ano</th>\n",
              "      <th>Filme</th>\n",
              "      <th>Distribuidor</th>\n",
              "      <th>Bilheteria (US$)</th>\n",
              "      <th>Ref.</th>\n",
              "    </tr>\n",
              "  </thead>\n",
              "  <tbody>\n",
              "    <tr>\n",
              "      <th>0</th>\n",
              "      <td>1</td>\n",
              "      <td>2009</td>\n",
              "      <td>Avatar</td>\n",
              "      <td>20th Century Fox</td>\n",
              "      <td>2 847 246 203</td>\n",
              "      <td>[1]</td>\n",
              "    </tr>\n",
              "    <tr>\n",
              "      <th>1</th>\n",
              "      <td>2</td>\n",
              "      <td>2019</td>\n",
              "      <td>Avengers: Endgame</td>\n",
              "      <td>Walt Disney Studios Motion Pictures</td>\n",
              "      <td>2 797 501 328</td>\n",
              "      <td>[2]</td>\n",
              "    </tr>\n",
              "    <tr>\n",
              "      <th>2</th>\n",
              "      <td>3</td>\n",
              "      <td>1997</td>\n",
              "      <td>Titanic</td>\n",
              "      <td>Paramount Pictures / 20th Century Fox</td>\n",
              "      <td>2 201 647 264</td>\n",
              "      <td>[3]</td>\n",
              "    </tr>\n",
              "    <tr>\n",
              "      <th>3</th>\n",
              "      <td>4</td>\n",
              "      <td>2015</td>\n",
              "      <td>Star Wars: The Force Awakens</td>\n",
              "      <td>Walt Disney Studios Motion Pictures</td>\n",
              "      <td>2 068 223 624</td>\n",
              "      <td>[4]</td>\n",
              "    </tr>\n",
              "    <tr>\n",
              "      <th>4</th>\n",
              "      <td>5</td>\n",
              "      <td>2018</td>\n",
              "      <td>Avengers: Infinity War</td>\n",
              "      <td>Walt Disney Studios Motion Pictures</td>\n",
              "      <td>2 048 359 754</td>\n",
              "      <td>[5]</td>\n",
              "    </tr>\n",
              "  </tbody>\n",
              "</table>\n",
              "</div>\n",
              "      <button class=\"colab-df-convert\" onclick=\"convertToInteractive('df-7a17d7b3-424d-4979-b0eb-b5af77285bcd')\"\n",
              "              title=\"Convert this dataframe to an interactive table.\"\n",
              "              style=\"display:none;\">\n",
              "        \n",
              "  <svg xmlns=\"http://www.w3.org/2000/svg\" height=\"24px\"viewBox=\"0 0 24 24\"\n",
              "       width=\"24px\">\n",
              "    <path d=\"M0 0h24v24H0V0z\" fill=\"none\"/>\n",
              "    <path d=\"M18.56 5.44l.94 2.06.94-2.06 2.06-.94-2.06-.94-.94-2.06-.94 2.06-2.06.94zm-11 1L8.5 8.5l.94-2.06 2.06-.94-2.06-.94L8.5 2.5l-.94 2.06-2.06.94zm10 10l.94 2.06.94-2.06 2.06-.94-2.06-.94-.94-2.06-.94 2.06-2.06.94z\"/><path d=\"M17.41 7.96l-1.37-1.37c-.4-.4-.92-.59-1.43-.59-.52 0-1.04.2-1.43.59L10.3 9.45l-7.72 7.72c-.78.78-.78 2.05 0 2.83L4 21.41c.39.39.9.59 1.41.59.51 0 1.02-.2 1.41-.59l7.78-7.78 2.81-2.81c.8-.78.8-2.07 0-2.86zM5.41 20L4 18.59l7.72-7.72 1.47 1.35L5.41 20z\"/>\n",
              "  </svg>\n",
              "      </button>\n",
              "      \n",
              "  <style>\n",
              "    .colab-df-container {\n",
              "      display:flex;\n",
              "      flex-wrap:wrap;\n",
              "      gap: 12px;\n",
              "    }\n",
              "\n",
              "    .colab-df-convert {\n",
              "      background-color: #E8F0FE;\n",
              "      border: none;\n",
              "      border-radius: 50%;\n",
              "      cursor: pointer;\n",
              "      display: none;\n",
              "      fill: #1967D2;\n",
              "      height: 32px;\n",
              "      padding: 0 0 0 0;\n",
              "      width: 32px;\n",
              "    }\n",
              "\n",
              "    .colab-df-convert:hover {\n",
              "      background-color: #E2EBFA;\n",
              "      box-shadow: 0px 1px 2px rgba(60, 64, 67, 0.3), 0px 1px 3px 1px rgba(60, 64, 67, 0.15);\n",
              "      fill: #174EA6;\n",
              "    }\n",
              "\n",
              "    [theme=dark] .colab-df-convert {\n",
              "      background-color: #3B4455;\n",
              "      fill: #D2E3FC;\n",
              "    }\n",
              "\n",
              "    [theme=dark] .colab-df-convert:hover {\n",
              "      background-color: #434B5C;\n",
              "      box-shadow: 0px 1px 3px 1px rgba(0, 0, 0, 0.15);\n",
              "      filter: drop-shadow(0px 1px 2px rgba(0, 0, 0, 0.3));\n",
              "      fill: #FFFFFF;\n",
              "    }\n",
              "  </style>\n",
              "\n",
              "      <script>\n",
              "        const buttonEl =\n",
              "          document.querySelector('#df-7a17d7b3-424d-4979-b0eb-b5af77285bcd button.colab-df-convert');\n",
              "        buttonEl.style.display =\n",
              "          google.colab.kernel.accessAllowed ? 'block' : 'none';\n",
              "\n",
              "        async function convertToInteractive(key) {\n",
              "          const element = document.querySelector('#df-7a17d7b3-424d-4979-b0eb-b5af77285bcd');\n",
              "          const dataTable =\n",
              "            await google.colab.kernel.invokeFunction('convertToInteractive',\n",
              "                                                     [key], {});\n",
              "          if (!dataTable) return;\n",
              "\n",
              "          const docLinkHtml = 'Like what you see? Visit the ' +\n",
              "            '<a target=\"_blank\" href=https://colab.research.google.com/notebooks/data_table.ipynb>data table notebook</a>'\n",
              "            + ' to learn more about interactive tables.';\n",
              "          element.innerHTML = '';\n",
              "          dataTable['output_type'] = 'display_data';\n",
              "          await google.colab.output.renderOutput(dataTable, element);\n",
              "          const docLink = document.createElement('div');\n",
              "          docLink.innerHTML = docLinkHtml;\n",
              "          element.appendChild(docLink);\n",
              "        }\n",
              "      </script>\n",
              "    </div>\n",
              "  </div>\n",
              "  "
            ],
            "text/plain": [
              "   Ranking   Ano  ... Bilheteria (US$) Ref.\n",
              "0        1  2009  ...    2 847 246 203  [1]\n",
              "1        2  2019  ...    2 797 501 328  [2]\n",
              "2        3  1997  ...    2 201 647 264  [3]\n",
              "3        4  2015  ...    2 068 223 624  [4]\n",
              "4        5  2018  ...    2 048 359 754  [5]\n",
              "\n",
              "[5 rows x 6 columns]"
            ]
          },
          "metadata": {},
          "execution_count": 1
        }
      ],
      "source": [
        "# Importar um pacote\n",
        "import pandas as pd\n",
        "\n",
        "Tabela_Filmes = pd.read_html('https://pt.wikipedia.org/wiki/Lista_de_filmes_de_maior_bilheteria')\n",
        "\n",
        "Tabela_Filmes[0].head()"
      ]
    },
    {
      "cell_type": "code",
      "source": [
        "# Fazendo uma API\n",
        "\n",
        "# Importando a função\n",
        "import requests\n",
        "\n",
        "# Faznedo a conexão\n",
        "Conexao = requests.get('https://api.adviceslip.com/advice')\n",
        "\n",
        "# Verificando a resposta\n",
        "Conexao.json()"
      ],
      "metadata": {
        "colab": {
          "base_uri": "https://localhost:8080/"
        },
        "id": "uDDo2zIgc5A8",
        "outputId": "2fe0721c-2077-426d-baa5-cfb488b41693"
      },
      "execution_count": null,
      "outputs": [
        {
          "output_type": "execute_result",
          "data": {
            "text/plain": [
              "{'slip': {'advice': 'Most things look better when you put them in a circle.',\n",
              "  'id': 182}}"
            ]
          },
          "metadata": {},
          "execution_count": 4
        }
      ]
    },
    {
      "cell_type": "code",
      "source": [
        "# Identificando sites\n",
        "\n",
        "# variavel com o site\n",
        "site = 'https://pt-br.facebook.com/'\n",
        "\n",
        "# Fazendo a conexão\n",
        "Conexao = requests.get( site )\n",
        "\n",
        "# Verificando o cookies\n",
        "Conexao.cookies"
      ],
      "metadata": {
        "colab": {
          "base_uri": "https://localhost:8080/"
        },
        "id": "uBK9xOMEdmhv",
        "outputId": "5e6f0fc6-193a-4baa-b54a-c8b98620d66a"
      },
      "execution_count": null,
      "outputs": [
        {
          "output_type": "execute_result",
          "data": {
            "text/plain": [
              "<RequestsCookieJar[Cookie(version=0, name='fr', value='0Znm2N9g0FUcjErfq..Bh-bh7.NN.AAA.0.0.Bh-bh7.AWXPjYs16zQ', port=None, port_specified=False, domain='.facebook.com', domain_specified=True, domain_initial_dot=True, path='/', path_specified=True, secure=True, expires=1651531643, discard=False, comment=None, comment_url=None, rest={'httponly': None}, rfc2109=False), Cookie(version=0, name='sb', value='e7j5YZMw-Ilgsudf7IG1Pn1p', port=None, port_specified=False, domain='.facebook.com', domain_specified=True, domain_initial_dot=True, path='/', path_specified=True, secure=True, expires=1706827644, discard=False, comment=None, comment_url=None, rest={'httponly': None}, rfc2109=False)]>"
            ]
          },
          "metadata": {},
          "execution_count": 5
        }
      ]
    },
    {
      "cell_type": "code",
      "source": [
        "# Começar \n",
        "print('Ola mundo!')\n",
        "\n",
        "aspas_simples = ''\n",
        "aspas_duplas = \"\""
      ],
      "metadata": {
        "colab": {
          "base_uri": "https://localhost:8080/"
        },
        "id": "NP0nfsdFeKN1",
        "outputId": "2a36eb8c-a861-45ce-dcc6-0f1d4a341f14"
      },
      "execution_count": null,
      "outputs": [
        {
          "output_type": "stream",
          "name": "stdout",
          "text": [
            "Ola mundo!\n"
          ]
        }
      ]
    },
    {
      "cell_type": "code",
      "source": [
        "# Operadores\n",
        "# Soma\n",
        "100001 + 2210392190312931"
      ],
      "metadata": {
        "colab": {
          "base_uri": "https://localhost:8080/"
        },
        "id": "6jEr4MDIfC3d",
        "outputId": "d2ac8ba5-d165-45cd-b703-db3d2ec1c083"
      },
      "execution_count": null,
      "outputs": [
        {
          "output_type": "execute_result",
          "data": {
            "text/plain": [
              "2210392190412932"
            ]
          },
          "metadata": {},
          "execution_count": 9
        }
      ]
    },
    {
      "cell_type": "code",
      "source": [
        "# Subtração\n",
        "100 - 50"
      ],
      "metadata": {
        "colab": {
          "base_uri": "https://localhost:8080/"
        },
        "id": "uqe9WptofUKq",
        "outputId": "7c7a96f9-f3b9-4d29-9d3c-3ab47b9ad584"
      },
      "execution_count": null,
      "outputs": [
        {
          "output_type": "execute_result",
          "data": {
            "text/plain": [
              "50"
            ]
          },
          "metadata": {},
          "execution_count": 10
        }
      ]
    },
    {
      "cell_type": "code",
      "source": [
        "# Multiplicação\n",
        "200 * 14567890"
      ],
      "metadata": {
        "colab": {
          "base_uri": "https://localhost:8080/"
        },
        "id": "mmSGgPJNfeE9",
        "outputId": "6dc4aa83-594d-4f68-f337-6c39b44442f8"
      },
      "execution_count": null,
      "outputs": [
        {
          "output_type": "execute_result",
          "data": {
            "text/plain": [
              "2913578000"
            ]
          },
          "metadata": {},
          "execution_count": 11
        }
      ]
    },
    {
      "cell_type": "code",
      "source": [
        "# Divisão\n",
        "10212121212 / 223232"
      ],
      "metadata": {
        "colab": {
          "base_uri": "https://localhost:8080/"
        },
        "id": "TDn9TAxLfj_c",
        "outputId": "d58cf902-0ba8-40d4-ad39-58abacf845cb"
      },
      "execution_count": null,
      "outputs": [
        {
          "output_type": "execute_result",
          "data": {
            "text/plain": [
              "45746.672573824544"
            ]
          },
          "metadata": {},
          "execution_count": 13
        }
      ]
    },
    {
      "cell_type": "code",
      "source": [
        "# Exponenciação\n",
        "2 ** 10"
      ],
      "metadata": {
        "colab": {
          "base_uri": "https://localhost:8080/"
        },
        "id": "RBs9B85EfoB2",
        "outputId": "44815e98-9899-447e-ee5e-81587516f135"
      },
      "execution_count": null,
      "outputs": [
        {
          "output_type": "execute_result",
          "data": {
            "text/plain": [
              "1024"
            ]
          },
          "metadata": {},
          "execution_count": 15
        }
      ]
    },
    {
      "cell_type": "code",
      "source": [
        "# Resto da divisão\n",
        "9 % 4"
      ],
      "metadata": {
        "colab": {
          "base_uri": "https://localhost:8080/"
        },
        "id": "V9611Ikxfwte",
        "outputId": "5825d297-1c8b-4dda-f55d-f0e21ca7ddb5"
      },
      "execution_count": null,
      "outputs": [
        {
          "output_type": "execute_result",
          "data": {
            "text/plain": [
              "1"
            ]
          },
          "metadata": {},
          "execution_count": 16
        }
      ]
    },
    {
      "cell_type": "code",
      "source": [
        "# divisão do chão\n",
        "9 // 4"
      ],
      "metadata": {
        "colab": {
          "base_uri": "https://localhost:8080/"
        },
        "id": "scEPDNCCf7Lc",
        "outputId": "25c4d8fd-0ab9-4d6d-d763-f07efba6b902"
      },
      "execution_count": null,
      "outputs": [
        {
          "output_type": "execute_result",
          "data": {
            "text/plain": [
              "2"
            ]
          },
          "metadata": {},
          "execution_count": 17
        }
      ]
    },
    {
      "cell_type": "code",
      "source": [
        "# Tipos de variaveis\n",
        "Variavel = 'Olá Mundo!'\n",
        "print( Variavel )\n",
        "\n",
        "Variavel_02 = 10\n",
        "print( Variavel_02 )\n",
        "\n",
        "Var_Inteiro = int ( 450 )\n",
        "print( Var_Inteiro )\n",
        "\n",
        "Var_Flutuante = float ( 10.50 )\n",
        "Var_Flutuante_02 = 10.50\n",
        "print( Var_Flutuante )\n",
        "print( Var_Flutuante_02 )\n",
        "\n",
        "Var_String = 'Qualquer Palavra'\n",
        "Var_String_2 = str( 'Qualquer Palavra' )\n",
        "print( Var_String )\n",
        "print( Var_String_2 )\n",
        "\n",
        "Var_Boleano = True\n",
        "Var_Boleano_02 = False\n",
        "print( Var_Boleano )\n",
        "print( Var_Boleano_02 )\n",
        "\n",
        "# Tipos de Dados\n",
        "\n",
        "# Listas\n",
        "Lista_01 = [ 1, 2, 3, 4, 5 ]\n",
        "Lista_02 = [ 'Odemir', 'Bootcamp', 'Hoje', 4, 5]\n",
        "Lista_03 = [ 1, 2, 'Odemir', True, False ]\n",
        "print( Lista_01 )\n",
        "print( Lista_02 )\n",
        "print( Lista_03 )\n",
        "\n",
        "# Tuplas - Imutavel\n",
        "Tupla_01 = ( 2, 3, 4, 5 )\n",
        "Tupla_02 = ( 'Hoje', 'Noite', 4, True )\n",
        "print( Tupla_01 )\n",
        "print( Tupla_02 )\n",
        "\n",
        "# Dicionarios\n",
        "Dicionario = {\n",
        "    'Index':'Informação',\n",
        "    'Nome':'Odemir Depieri',\n",
        "    'Nascimento': '1992',\n",
        "    'Salario': 1200,\n",
        "    'Acesso_ao_Sistema': True,\n",
        "    'Lista' : [1,2,3,4,5,6] }\n",
        "print( Dicionario )"
      ],
      "metadata": {
        "colab": {
          "base_uri": "https://localhost:8080/"
        },
        "id": "31dtv5ykgDTm",
        "outputId": "ad8ffb1a-d039-4ee6-81b9-d7b392a3f8c3"
      },
      "execution_count": null,
      "outputs": [
        {
          "output_type": "stream",
          "name": "stdout",
          "text": [
            "Olá Mundo!\n",
            "10\n",
            "450\n",
            "10.5\n",
            "10.5\n",
            "Qualquer Palavra\n",
            "Qualquer Palavra\n",
            "True\n",
            "False\n",
            "[1, 2, 3, 4, 5]\n",
            "['Odemir', 'Bootcamp', 'Hoje', 4, 5]\n",
            "[1, 2, 'Odemir', True, False]\n",
            "(2, 3, 4, 5)\n",
            "('Hoje', 'Noite', 4, True)\n",
            "{'Index': 'Informação', 'Nome': 'Odemir Depieri', 'Nascimento': '1992', 'Salario': 1200, 'Acesso_ao_Sistema': True, 'Lista': [1, 2, 3, 4, 5, 6]}\n"
          ]
        }
      ]
    },
    {
      "cell_type": "code",
      "source": [
        "# Pegadinha\n",
        "str( 10 ) + str( 10 )"
      ],
      "metadata": {
        "colab": {
          "base_uri": "https://localhost:8080/",
          "height": 35
        },
        "id": "6-mFCJB1gW09",
        "outputId": "6aa45c75-4b60-426e-b3b7-d33c0cc04987"
      },
      "execution_count": null,
      "outputs": [
        {
          "output_type": "execute_result",
          "data": {
            "application/vnd.google.colaboratory.intrinsic+json": {
              "type": "string"
            },
            "text/plain": [
              "'1010'"
            ]
          },
          "metadata": {},
          "execution_count": 30
        }
      ]
    },
    {
      "cell_type": "code",
      "source": [
        "# Nomeação variavel\n",
        "Odemir, Lucas, Marcelo = 1, 2, 3\n",
        "\n",
        "print( Odemir, Lucas, Marcelo )"
      ],
      "metadata": {
        "colab": {
          "base_uri": "https://localhost:8080/"
        },
        "id": "Wu8c-uSthmxC",
        "outputId": "02a6bfe1-5190-4816-d9a3-63a0fd5fe39b"
      },
      "execution_count": null,
      "outputs": [
        {
          "output_type": "stream",
          "name": "stdout",
          "text": [
            "1 2 3\n"
          ]
        }
      ]
    },
    {
      "cell_type": "code",
      "source": [
        "# Nomeação variavel\n",
        "Odemir = Lucas = Marcelo = 1 + 1\n",
        "\n",
        "print( Odemir, Lucas, Marcelo )"
      ],
      "metadata": {
        "colab": {
          "base_uri": "https://localhost:8080/"
        },
        "id": "Xn5h36b2kgcB",
        "outputId": "984467cb-f85f-4c9d-ae94-c1f47bc9e48d"
      },
      "execution_count": null,
      "outputs": [
        {
          "output_type": "stream",
          "name": "stdout",
          "text": [
            "2 2 2\n"
          ]
        }
      ]
    },
    {
      "cell_type": "code",
      "source": [
        "# Nomeação variavel\n",
        "\n",
        "# Criar uma lista\n",
        "Carros = [ 'VW', 'GM', 'Ford', 'FIAT' ]\n",
        "\n",
        "# Nomeando elas \n",
        "Marca_01, Marca_02, Marca_03, Marca_04 = Carros\n",
        "\n",
        "print( Marca_01, Marca_02, Marca_03, Marca_04 )"
      ],
      "metadata": {
        "colab": {
          "base_uri": "https://localhost:8080/"
        },
        "id": "uHzEnrSck1FM",
        "outputId": "243a6f46-59d0-42e3-b33e-788f9784d9be"
      },
      "execution_count": null,
      "outputs": [
        {
          "output_type": "stream",
          "name": "stdout",
          "text": [
            "VW GM Ford FIAT\n"
          ]
        }
      ]
    },
    {
      "cell_type": "code",
      "source": [
        "# Codigo Clean\n",
        "Nome_Completo = 'Zulando'\n",
        "Soma_Faturamento = float( 1200.10 )"
      ],
      "metadata": {
        "id": "oMg4DAexlGhp"
      },
      "execution_count": null,
      "outputs": []
    },
    {
      "cell_type": "code",
      "source": [
        "# Combinação (concatenar)\n",
        "Nome = 'Odemir'\n",
        "Sobrenome = 'Depieri'\n",
        "Nome_Completo = Nome + ' ' + Sobrenome\n",
        "\n",
        "print( Nome_Completo )"
      ],
      "metadata": {
        "colab": {
          "base_uri": "https://localhost:8080/"
        },
        "id": "nTVEWxmhl2Ym",
        "outputId": "cf1c16bc-af1e-4dc9-b3f1-482324eaeae7"
      },
      "execution_count": null,
      "outputs": [
        {
          "output_type": "stream",
          "name": "stdout",
          "text": [
            "Odemir Depieri\n"
          ]
        }
      ]
    },
    {
      "cell_type": "code",
      "source": [
        "# Operações com variaveis\n",
        "Dolar = 5.23\n",
        "Imposto = 0.01\n",
        "\n",
        "Valor_Conversao = Dolar - ( Dolar * Imposto )\n",
        "\n",
        "print( Valor_Conversao )"
      ],
      "metadata": {
        "colab": {
          "base_uri": "https://localhost:8080/"
        },
        "id": "V5cAZ3V4mMl5",
        "outputId": "31e25c80-9170-452f-813e-e3a0cb6d5bc8"
      },
      "execution_count": null,
      "outputs": [
        {
          "output_type": "stream",
          "name": "stdout",
          "text": [
            "5.177700000000001\n"
          ]
        }
      ]
    },
    {
      "cell_type": "code",
      "source": [
        "# Verificar Tipos de Dados\n",
        "\n",
        "A = 1\n",
        "B = 2.99\n",
        "C = 'Ola!'\n",
        "D = [1, 2, 3]\n",
        "E = ( 1, 2, 3)\n",
        "F = {'CPF': 123}\n",
        "G = False\n",
        "\n",
        "print( type(A) )\n",
        "print( type(B) )\n",
        "print( type(C) )\n",
        "print( type(D) )\n",
        "print( type(E) )\n",
        "print( type(F) )\n",
        "print( type(G) )"
      ],
      "metadata": {
        "colab": {
          "base_uri": "https://localhost:8080/"
        },
        "id": "ht429WmRm3Eh",
        "outputId": "e33aa702-3ce6-495b-aeb0-0ddb97b26398"
      },
      "execution_count": null,
      "outputs": [
        {
          "output_type": "stream",
          "name": "stdout",
          "text": [
            "<class 'int'>\n",
            "<class 'float'>\n",
            "<class 'str'>\n",
            "<class 'list'>\n",
            "<class 'tuple'>\n",
            "<class 'dict'>\n",
            "<class 'bool'>\n"
          ]
        }
      ]
    },
    {
      "cell_type": "code",
      "source": [
        "# Comando Round\n",
        "\n",
        "Valor = 12.9234567890\n",
        "\n",
        "print( round( Valor, 4) )\n",
        "print( round( Valor, 2) )\n",
        "print( round( Valor, 0) )"
      ],
      "metadata": {
        "colab": {
          "base_uri": "https://localhost:8080/"
        },
        "id": "hMcgVTVFnXPq",
        "outputId": "381e932d-fbcc-4c83-d085-4ad9edfd28db"
      },
      "execution_count": null,
      "outputs": [
        {
          "output_type": "stream",
          "name": "stdout",
          "text": [
            "12.9235\n",
            "12.92\n",
            "13.0\n"
          ]
        }
      ]
    },
    {
      "cell_type": "code",
      "source": [
        "# Comando input\n",
        "\n",
        "Nome = input('Qual seu nome: ')\n",
        "print(Nome)"
      ],
      "metadata": {
        "colab": {
          "base_uri": "https://localhost:8080/"
        },
        "id": "iSKy2WycnswM",
        "outputId": "b562bbbc-2369-4b2c-a8cd-1cacba3fa265"
      },
      "execution_count": null,
      "outputs": [
        {
          "output_type": "stream",
          "name": "stdout",
          "text": [
            "Qual seu nome: Alexandre\n",
            "Alexandre\n"
          ]
        }
      ]
    },
    {
      "cell_type": "code",
      "source": [
        "# Operadores de Comparação\n",
        "\n",
        "Igual = '='\n",
        "Diferente = '!='\n",
        "Maior = '>'\n",
        "Maior_Igual = '>='\n",
        "Menor = '<'\n",
        "Menor = '<='\n",
        "\n",
        "print( 8 > 7 )\n",
        "print( 8 < 7 )\n",
        "print( 8 == 8 )\n",
        "print( 8 != 8 )\n",
        "print( 8 >= 8 )"
      ],
      "metadata": {
        "colab": {
          "base_uri": "https://localhost:8080/"
        },
        "id": "XsLHJUKfovOo",
        "outputId": "5440c042-1271-4ef8-e0fb-68f0934745bf"
      },
      "execution_count": null,
      "outputs": [
        {
          "output_type": "stream",
          "name": "stdout",
          "text": [
            "True\n",
            "False\n",
            "True\n",
            "False\n",
            "True\n"
          ]
        }
      ]
    },
    {
      "cell_type": "code",
      "source": [
        "# Operadores de Comparação # 2\n",
        "\n",
        "E = 'and'\n",
        "Ou = 'or'\n",
        "Negacao = 'not'\n",
        "Dentro = 'in'\n",
        "\n",
        "print( 10 > 2 and 2 < 10 )\n",
        "print( 2 > 2 or 2 == 2 )\n",
        "print( 8 not in [2, 4, 8] )\n",
        "print( 8 in [2, 4, 8] )"
      ],
      "metadata": {
        "colab": {
          "base_uri": "https://localhost:8080/"
        },
        "id": "WWEYISkno7q2",
        "outputId": "acfa07c5-e578-4a14-d4b0-82bb8527d77c"
      },
      "execution_count": null,
      "outputs": [
        {
          "output_type": "stream",
          "name": "stdout",
          "text": [
            "True\n",
            "True\n",
            "False\n",
            "True\n"
          ]
        }
      ]
    },
    {
      "cell_type": "code",
      "source": [
        "# Manipulação de Lista\n",
        "Lista_Vazia = []\n",
        "print( Lista_Vazia )\n",
        "print( type(Lista_Vazia) )\n",
        "\n",
        "# Append\n",
        "Lista_Vazia.append( 1 )\n",
        "Lista_Vazia.append( 'Nome' )\n",
        "Lista_Vazia.append( True )\n",
        "print( Lista_Vazia )\n",
        "\n",
        "# Comando LEN\n",
        "print( len( Lista_Vazia ) )\n",
        "\n",
        "# Acessando posições\n",
        "print( Lista_Vazia[0] )\n",
        "print( Lista_Vazia[1] )\n",
        "print( Lista_Vazia[-1] )\n",
        "print( Lista_Vazia[0:2] )\n",
        "\n",
        "# Excluir\n",
        "del Lista_Vazia[-1]\n",
        "print( Lista_Vazia )\n",
        "\n",
        "# Limpando lista\n",
        "print( Lista_Vazia.clear() )"
      ],
      "metadata": {
        "colab": {
          "base_uri": "https://localhost:8080/"
        },
        "id": "ILcByhH6pax5",
        "outputId": "7abf71a7-ce36-4f42-bc2d-5e71af08ef23"
      },
      "execution_count": null,
      "outputs": [
        {
          "output_type": "stream",
          "name": "stdout",
          "text": [
            "[]\n",
            "<class 'list'>\n",
            "[1, 'Nome', True]\n",
            "3\n",
            "1\n",
            "Nome\n",
            "True\n",
            "[1, 'Nome']\n",
            "[1, 'Nome']\n",
            "None\n"
          ]
        }
      ]
    },
    {
      "cell_type": "code",
      "source": [
        "# Frameworks\n",
        "\n",
        "# Datetime para data\n",
        "from datetime import datetime\n",
        "\n",
        "Data = '01/02/22'\n",
        "Conversao = datetime.strptime(Data, '%d/%m/%y') \n",
        "\n",
        "print( Conversao )\n",
        "print( type(Conversao) )"
      ],
      "metadata": {
        "colab": {
          "base_uri": "https://localhost:8080/"
        },
        "id": "JqQO8a5SsPJQ",
        "outputId": "6d7a2d84-4acd-4547-d53d-dc14f168173a"
      },
      "execution_count": null,
      "outputs": [
        {
          "output_type": "stream",
          "name": "stdout",
          "text": [
            "2022-02-01 00:00:00\n",
            "<class 'datetime.datetime'>\n"
          ]
        }
      ]
    },
    {
      "cell_type": "code",
      "source": [
        "# Exercicos de fundamentos\n",
        "\n",
        "# Calculo do IMC\n",
        "IMC = 65 / ( 1.70 * 1.70 )\n",
        "\n",
        "print( 'Meu IMC é:', round(IMC,2)  )\n",
        "\n",
        "print( f'Meu IMC é:{ round(IMC,2) }')\n",
        "\n",
        "print( 'Meu IMC é: {}'.format( round(IMC, 2) ))"
      ],
      "metadata": {
        "colab": {
          "base_uri": "https://localhost:8080/"
        },
        "id": "EA2U5Vr6syWX",
        "outputId": "36afb35f-a146-489b-8681-80c956da36aa"
      },
      "execution_count": null,
      "outputs": [
        {
          "output_type": "stream",
          "name": "stdout",
          "text": [
            "Meu IMC é: 22.49\n",
            "Meu IMC é:22.49\n",
            "Meu IMC é: 22.49\n"
          ]
        }
      ]
    },
    {
      "cell_type": "code",
      "source": [
        "# Exercicios \n",
        "# Calcular Juros Simples\n",
        "\n",
        "Valor_01 = float( input('Qual a Taxa de Juros: ') )\n",
        "Valor_02 = float( input('Qual o investimnento: ') )\n",
        "\n",
        "Ganho = Valor_02 + ( Valor_02 * ( Valor_01 / 100 ) )\n",
        "\n",
        "print('Eu investi:', Valor_02 )\n",
        "print('Eu acumulei:', Ganho )"
      ],
      "metadata": {
        "colab": {
          "base_uri": "https://localhost:8080/"
        },
        "id": "n0CasfySs2Tj",
        "outputId": "181247d8-74d7-4f17-c619-408a471da210"
      },
      "execution_count": null,
      "outputs": [
        {
          "output_type": "stream",
          "name": "stdout",
          "text": [
            "Qual a Taxa de Juros: 0.7\n",
            "Qual o investimnento: 8000\n",
            "Eu investi: 8000.0\n",
            "Eu acumulei: 8056.0\n"
          ]
        }
      ]
    },
    {
      "cell_type": "code",
      "source": [
        "# Exercicios\n",
        "# Ajuste de DAta\n",
        "\n",
        "# Inputar\n",
        "Dia = int( input('Qual o dia de hoje: ') )\n",
        "Mes = int( input('Qual o mes de hoje: ') )\n",
        "Ano = int( input('Qual o Ano de hoje: ') )\n",
        "\n",
        "# Consolidar\n",
        "Data = str(Dia) + '/' + str(Mes) + '/' + str(Ano)\n",
        "\n",
        "Conversao = datetime.strptime( Data, '%d/%m/%y' )\n",
        "\n",
        "print(f'Data foi consolidade { Conversao }')"
      ],
      "metadata": {
        "colab": {
          "base_uri": "https://localhost:8080/"
        },
        "id": "_gzGJbX11DDD",
        "outputId": "0e0d51ba-b57b-44dc-d604-105de3deed31"
      },
      "execution_count": null,
      "outputs": [
        {
          "output_type": "stream",
          "name": "stdout",
          "text": [
            "Qual o dia de hoje: 01\n",
            "Qual o mes de hoje: 02\n",
            "Qual o Ano de hoje: 22\n",
            "Data foi consolidade 2022-02-01 00:00:00\n"
          ]
        }
      ]
    },
    {
      "cell_type": "code",
      "source": [
        "# Calcular o metro quadrado\n",
        "\n",
        "Altura = float( input('Qual a altura: '))\n",
        "Largura = float( input('Qual a largura: '))\n",
        "\n",
        "Quadrado = Altura * Largura\n",
        "\n",
        "print('O metro quadrado é: ', round( Quadrado,2 ) )"
      ],
      "metadata": {
        "colab": {
          "base_uri": "https://localhost:8080/"
        },
        "id": "ziwvmm0S17AF",
        "outputId": "589d0da0-aef4-4cef-ee64-47ce96e080ba"
      },
      "execution_count": null,
      "outputs": [
        {
          "output_type": "stream",
          "name": "stdout",
          "text": [
            "Qual a altura: 8.0\n",
            "Qual a largura: 6.0\n",
            "O metro quadrado é:  48.0\n"
          ]
        }
      ]
    },
    {
      "cell_type": "code",
      "source": [
        "# Verificação\n",
        "\n",
        "Idade = int( input('Qual sua idade: ') )\n",
        "Verificacao = Idade >= 18\n",
        "\n",
        "print('Verificação: ', Verificacao )"
      ],
      "metadata": {
        "colab": {
          "base_uri": "https://localhost:8080/"
        },
        "id": "ptzz9zBb2R2l",
        "outputId": "eedb1dbf-7334-411d-93f2-6ecb671cd7f2"
      },
      "execution_count": null,
      "outputs": [
        {
          "output_type": "stream",
          "name": "stdout",
          "text": [
            "Qual sua idade: 15\n",
            "Verificação:  False\n"
          ]
        }
      ]
    },
    {
      "cell_type": "code",
      "source": [
        "# Valor da Hipotenusa\n",
        "\n",
        "# formula = a² + b² = c²\n",
        "Cateto_Oposto = float( input('Qual o valor do cateto oposto: '))\n",
        "Cateto_Adjacente = float( input('Qual o valor do cateto Adjacente: '))\n",
        "\n",
        "Hipotenusa = ( Cateto_Oposto ** 2 + Cateto_Adjacente ** 2) ** (1/2)\n",
        "\n",
        "print('Valor da Hipotenusa é:', Hipotenusa )"
      ],
      "metadata": {
        "colab": {
          "base_uri": "https://localhost:8080/"
        },
        "id": "TQNbUMOU284L",
        "outputId": "79117e00-3b58-4e4a-eaa6-ff3e1bb433b6"
      },
      "execution_count": null,
      "outputs": [
        {
          "output_type": "stream",
          "name": "stdout",
          "text": [
            "Qual o valor do cateto oposto: 9.2\n",
            "Qual o valor do cateto Adjacente: 12.5\n",
            "Valor da Hipotenusa é: 15.52063143045411\n"
          ]
        }
      ]
    },
    {
      "cell_type": "code",
      "source": [
        "# Sistema de RH\n",
        "# Folha de Pagamento\n",
        "\n",
        "Salario = float( input('Qual seu salário: '))\n",
        "\n",
        "# Variaveis de desconto\n",
        "INSS = 0.11\n",
        "Vale_Ref = 0.04\n",
        "Vale_Trans = 0.06\n",
        "IR = 0.08\n",
        "\n",
        "# Organizar esses descontos\n",
        "Dicionario = {\n",
        "    'INSS' : Salario * INSS,\n",
        "    'Vale Ref' : Salario * Vale_Ref,\n",
        "    'Vale Trans' : Salario * Vale_Trans,\n",
        "    'IR' : Salario * IR\n",
        "}\n",
        "\n",
        "# Calcular o Debito\n",
        "Debito = Dicionario['INSS'] + Dicionario['Vale Ref'] + Dicionario['Vale Trans'] + Dicionario['IR']\n",
        "\n",
        "# Calculdo do Liquido\n",
        "Liquido = Salario - Debito\n",
        "\n",
        "print('Meu salario é:', Salario, '\\n' )\n",
        "print('Seguintes debitos:', Dicionario, '\\n' )\n",
        "print('Foi debitado: ', Debito, '\\n' )\n",
        "print('Fique feliz com essa quantia: ', Liquido )"
      ],
      "metadata": {
        "colab": {
          "base_uri": "https://localhost:8080/"
        },
        "id": "Os6cXvkx3qpy",
        "outputId": "f8d2eeec-666b-4795-b754-f8c67fff05c2"
      },
      "execution_count": null,
      "outputs": [
        {
          "output_type": "stream",
          "name": "stdout",
          "text": [
            "Qual seu salário: 10000\n",
            "Meu salario é: 10000.0 \n",
            "\n",
            "Seguintes debitos: {'INSS': 1100.0, 'Vale Ref': 400.0, 'Vale Trans': 600.0, 'IR': 800.0} \n",
            "\n",
            "Foi debitado:  2900.0 \n",
            "\n",
            "Fique feliz com essa quantia:  7100.0\n"
          ]
        }
      ]
    },
    {
      "cell_type": "code",
      "source": [
        "# Criando novos dados no dicionario\n",
        "Dicionario['Valor Debitado'] = Debito\n",
        "Dicionario['Valor Liquido'] = Liquido\n",
        "Dicionario['Salario'] = Salario\n",
        "\n",
        "Dicionario"
      ],
      "metadata": {
        "colab": {
          "base_uri": "https://localhost:8080/"
        },
        "id": "cL5i1LWE49CG",
        "outputId": "5a1118e3-1627-4e7b-ca69-8bd771f61453"
      },
      "execution_count": null,
      "outputs": [
        {
          "output_type": "execute_result",
          "data": {
            "text/plain": [
              "{'INSS': 1100.0,\n",
              " 'IR': 800.0,\n",
              " 'Salario': 10000.0,\n",
              " 'Vale Ref': 400.0,\n",
              " 'Vale Trans': 600.0,\n",
              " 'Valor Debitado': 2900.0,\n",
              " 'Valor Liquido': 7100.0}"
            ]
          },
          "metadata": {},
          "execution_count": 127
        }
      ]
    },
    {
      "cell_type": "code",
      "source": [
        "# Função para criar um DAta Frame\n",
        "from pandas import DataFrame\n",
        "\n",
        "# PAssando o DF em um dicionario\n",
        "Base_Dados = DataFrame( Dicionario, index=[0] )\n",
        "\n",
        "# Verificando\n",
        "Base_Dados"
      ],
      "metadata": {
        "colab": {
          "base_uri": "https://localhost:8080/",
          "height": 81
        },
        "id": "yifV9w_j5Zk9",
        "outputId": "b583be5f-53a7-495c-9d6d-e719eb72f41e"
      },
      "execution_count": null,
      "outputs": [
        {
          "output_type": "execute_result",
          "data": {
            "text/html": [
              "\n",
              "  <div id=\"df-7de0626f-0259-403a-bb63-db8bd9e58da8\">\n",
              "    <div class=\"colab-df-container\">\n",
              "      <div>\n",
              "<style scoped>\n",
              "    .dataframe tbody tr th:only-of-type {\n",
              "        vertical-align: middle;\n",
              "    }\n",
              "\n",
              "    .dataframe tbody tr th {\n",
              "        vertical-align: top;\n",
              "    }\n",
              "\n",
              "    .dataframe thead th {\n",
              "        text-align: right;\n",
              "    }\n",
              "</style>\n",
              "<table border=\"1\" class=\"dataframe\">\n",
              "  <thead>\n",
              "    <tr style=\"text-align: right;\">\n",
              "      <th></th>\n",
              "      <th>INSS</th>\n",
              "      <th>Vale Ref</th>\n",
              "      <th>Vale Trans</th>\n",
              "      <th>IR</th>\n",
              "      <th>Valor Debitado</th>\n",
              "      <th>Valor Liquido</th>\n",
              "      <th>Salario</th>\n",
              "    </tr>\n",
              "  </thead>\n",
              "  <tbody>\n",
              "    <tr>\n",
              "      <th>0</th>\n",
              "      <td>1100.0</td>\n",
              "      <td>400.0</td>\n",
              "      <td>600.0</td>\n",
              "      <td>800.0</td>\n",
              "      <td>2900.0</td>\n",
              "      <td>7100.0</td>\n",
              "      <td>10000.0</td>\n",
              "    </tr>\n",
              "  </tbody>\n",
              "</table>\n",
              "</div>\n",
              "      <button class=\"colab-df-convert\" onclick=\"convertToInteractive('df-7de0626f-0259-403a-bb63-db8bd9e58da8')\"\n",
              "              title=\"Convert this dataframe to an interactive table.\"\n",
              "              style=\"display:none;\">\n",
              "        \n",
              "  <svg xmlns=\"http://www.w3.org/2000/svg\" height=\"24px\"viewBox=\"0 0 24 24\"\n",
              "       width=\"24px\">\n",
              "    <path d=\"M0 0h24v24H0V0z\" fill=\"none\"/>\n",
              "    <path d=\"M18.56 5.44l.94 2.06.94-2.06 2.06-.94-2.06-.94-.94-2.06-.94 2.06-2.06.94zm-11 1L8.5 8.5l.94-2.06 2.06-.94-2.06-.94L8.5 2.5l-.94 2.06-2.06.94zm10 10l.94 2.06.94-2.06 2.06-.94-2.06-.94-.94-2.06-.94 2.06-2.06.94z\"/><path d=\"M17.41 7.96l-1.37-1.37c-.4-.4-.92-.59-1.43-.59-.52 0-1.04.2-1.43.59L10.3 9.45l-7.72 7.72c-.78.78-.78 2.05 0 2.83L4 21.41c.39.39.9.59 1.41.59.51 0 1.02-.2 1.41-.59l7.78-7.78 2.81-2.81c.8-.78.8-2.07 0-2.86zM5.41 20L4 18.59l7.72-7.72 1.47 1.35L5.41 20z\"/>\n",
              "  </svg>\n",
              "      </button>\n",
              "      \n",
              "  <style>\n",
              "    .colab-df-container {\n",
              "      display:flex;\n",
              "      flex-wrap:wrap;\n",
              "      gap: 12px;\n",
              "    }\n",
              "\n",
              "    .colab-df-convert {\n",
              "      background-color: #E8F0FE;\n",
              "      border: none;\n",
              "      border-radius: 50%;\n",
              "      cursor: pointer;\n",
              "      display: none;\n",
              "      fill: #1967D2;\n",
              "      height: 32px;\n",
              "      padding: 0 0 0 0;\n",
              "      width: 32px;\n",
              "    }\n",
              "\n",
              "    .colab-df-convert:hover {\n",
              "      background-color: #E2EBFA;\n",
              "      box-shadow: 0px 1px 2px rgba(60, 64, 67, 0.3), 0px 1px 3px 1px rgba(60, 64, 67, 0.15);\n",
              "      fill: #174EA6;\n",
              "    }\n",
              "\n",
              "    [theme=dark] .colab-df-convert {\n",
              "      background-color: #3B4455;\n",
              "      fill: #D2E3FC;\n",
              "    }\n",
              "\n",
              "    [theme=dark] .colab-df-convert:hover {\n",
              "      background-color: #434B5C;\n",
              "      box-shadow: 0px 1px 3px 1px rgba(0, 0, 0, 0.15);\n",
              "      filter: drop-shadow(0px 1px 2px rgba(0, 0, 0, 0.3));\n",
              "      fill: #FFFFFF;\n",
              "    }\n",
              "  </style>\n",
              "\n",
              "      <script>\n",
              "        const buttonEl =\n",
              "          document.querySelector('#df-7de0626f-0259-403a-bb63-db8bd9e58da8 button.colab-df-convert');\n",
              "        buttonEl.style.display =\n",
              "          google.colab.kernel.accessAllowed ? 'block' : 'none';\n",
              "\n",
              "        async function convertToInteractive(key) {\n",
              "          const element = document.querySelector('#df-7de0626f-0259-403a-bb63-db8bd9e58da8');\n",
              "          const dataTable =\n",
              "            await google.colab.kernel.invokeFunction('convertToInteractive',\n",
              "                                                     [key], {});\n",
              "          if (!dataTable) return;\n",
              "\n",
              "          const docLinkHtml = 'Like what you see? Visit the ' +\n",
              "            '<a target=\"_blank\" href=https://colab.research.google.com/notebooks/data_table.ipynb>data table notebook</a>'\n",
              "            + ' to learn more about interactive tables.';\n",
              "          element.innerHTML = '';\n",
              "          dataTable['output_type'] = 'display_data';\n",
              "          await google.colab.output.renderOutput(dataTable, element);\n",
              "          const docLink = document.createElement('div');\n",
              "          docLink.innerHTML = docLinkHtml;\n",
              "          element.appendChild(docLink);\n",
              "        }\n",
              "      </script>\n",
              "    </div>\n",
              "  </div>\n",
              "  "
            ],
            "text/plain": [
              "     INSS  Vale Ref  Vale Trans     IR  Valor Debitado  Valor Liquido  Salario\n",
              "0  1100.0     400.0       600.0  800.0          2900.0         7100.0  10000.0"
            ]
          },
          "metadata": {},
          "execution_count": 128
        }
      ]
    },
    {
      "cell_type": "code",
      "source": [
        "# Exportando\n",
        "Base_Dados.to_excel('Teste.xlsx')"
      ],
      "metadata": {
        "id": "wtLdaYF95tsL"
      },
      "execution_count": null,
      "outputs": []
    },
    {
      "cell_type": "markdown",
      "source": [
        ""
      ],
      "metadata": {
        "id": "msyD6Mys6EzP"
      }
    },
    {
      "cell_type": "code",
      "source": [
        ""
      ],
      "metadata": {
        "id": "D3l3anDf50vy"
      },
      "execution_count": null,
      "outputs": []
    }
  ]
}
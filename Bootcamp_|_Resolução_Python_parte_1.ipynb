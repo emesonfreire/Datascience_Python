{
  "nbformat": 4,
  "nbformat_minor": 0,
  "metadata": {
    "colab": {
      "name": "Bootcamp | Resolução Python - parte 1.ipynb",
      "provenance": [],
      "collapsed_sections": [],
      "toc_visible": true,
      "include_colab_link": true
    },
    "kernelspec": {
      "name": "python3",
      "display_name": "Python 3"
    },
    "language_info": {
      "name": "python"
    }
  },
  "cells": [
    {
      "cell_type": "markdown",
      "metadata": {
        "id": "view-in-github",
        "colab_type": "text"
      },
      "source": [
        "<a href=\"https://colab.research.google.com/github/emesonfreire/Datascience_Python/blob/main/Bootcamp_%7C_Resolu%C3%A7%C3%A3o_Python_parte_1.ipynb\" target=\"_parent\"><img src=\"https://colab.research.google.com/assets/colab-badge.svg\" alt=\"Open In Colab\"/></a>"
      ]
    },
    {
      "cell_type": "code",
      "metadata": {
        "colab": {
          "base_uri": "https://localhost:8080/"
        },
        "id": "0C5WJi4BJ-23",
        "outputId": "86be88c3-519d-4c4e-f48d-a98ef74fb5a0"
      },
      "source": [
        "# Exercício 1 / 10\n",
        "#  ------- Bem Vindo -------\n",
        "\n",
        "Nome = input('Qual seu Nome: ')\n",
        "Sobrenome = input('Qual seu Sobrenome: ')\n",
        "\n",
        "print('Bem vindo {} {} !!!' .format(Nome, Sobrenome))"
      ],
      "execution_count": null,
      "outputs": [
        {
          "output_type": "stream",
          "name": "stdout",
          "text": [
            "Qual seu Nome: Odemir\n",
            "Qual seu Sobrenome: Depieri\n",
            "Bem vindo Odemir Depieri\n"
          ]
        }
      ]
    },
    {
      "cell_type": "code",
      "metadata": {
        "colab": {
          "base_uri": "https://localhost:8080/"
        },
        "id": "8t6nmpDpLSQk",
        "outputId": "af4a340a-d1c0-4a8f-8e1b-f43e456a324d"
      },
      "source": [
        "# Exercício 2 / 10\n",
        "#  ------- Dividir Valores -------\n",
        "\n",
        "Valor_01 = int( input('Valor 1ª: '))\n",
        "Valor_02 = int( input('Valor 2ª: '))\n",
        "\n",
        "Divisao = round( Valor_01 / Valor_02, 2 )\n",
        "\n",
        "print('A divisão do valor é: {}' .format(Divisao) )"
      ],
      "execution_count": null,
      "outputs": [
        {
          "output_type": "stream",
          "name": "stdout",
          "text": [
            "Valor 1ª: 6\n",
            "Valor 2ª: 7\n",
            "A divisão do valor é: 0.86\n"
          ]
        }
      ]
    },
    {
      "cell_type": "code",
      "metadata": {
        "colab": {
          "base_uri": "https://localhost:8080/"
        },
        "id": "07-E_HRrMltt",
        "outputId": "8fb1541e-d0fc-49e5-99fc-25a56d44e5f2"
      },
      "source": [
        "# Exercício 3 / 10\n",
        "#  ------- Concatenar informações -------\n",
        "\n",
        "Qualquer_Valor_01 = input('Digite algum valor: ')\n",
        "Qualquer_Valor_02 = input('Digite algum valor: ')\n",
        "\n",
        "Concatenar = str(Qualquer_Valor_01) + str(Qualquer_Valor_02)\n",
        "\n",
        "print('Tipo da informação é: {}' .format( Concatenar ) )"
      ],
      "execution_count": null,
      "outputs": [
        {
          "output_type": "stream",
          "name": "stdout",
          "text": [
            "Digite algum valor: Odemir\n",
            "Digite algum valor: Roots\n",
            "Tipo da informação é: OdemirRoots\n"
          ]
        }
      ]
    },
    {
      "cell_type": "code",
      "metadata": {
        "colab": {
          "base_uri": "https://localhost:8080/"
        },
        "id": "7fjXKLUmIL_V",
        "outputId": "1f21a287-3267-443c-b987-5eff5dc2344e"
      },
      "source": [
        "# Exercício 4 / 10\n",
        "#  ------- Sistema Educacional -------\n",
        "\n",
        "Nota_01 = float( input('Nota 1: '))\n",
        "Nota_02 = float( input('Nota 2: '))\n",
        "Nota_03 = float( input('Nota 3: '))\n",
        "Nota_04 = float( input('Nota 4: '))\n",
        "\n",
        "Media = round(( Nota_01 + Nota_02 + Nota_03 + Nota_04 ) / 4,2)\n",
        "\n",
        "print('A Média das notas é: {}' .format(Media) )"
      ],
      "execution_count": null,
      "outputs": [
        {
          "output_type": "stream",
          "name": "stdout",
          "text": [
            "Nota 1: 10\n",
            "Nota 2: 7.5\n",
            "Nota 3: 8\n",
            "Nota 4: 5.5\n",
            "A Média das notas é: 7.75\n"
          ]
        }
      ]
    },
    {
      "cell_type": "code",
      "metadata": {
        "colab": {
          "base_uri": "https://localhost:8080/"
        },
        "id": "uGn-cLOHOFyx",
        "outputId": "ab147794-9356-4daf-b4ed-373f7dab3c74"
      },
      "source": [
        "# Exercício 5 / 10\n",
        "#  ------- Conversão de Medidas -------\n",
        "\n",
        "Nota_01 = float( input('Digite uma distância em metros: '))\n",
        "Centimetros = Nota_01 * 100\n",
        "Milimetros = Nota_01 * 1000\n",
        "\n",
        "print('A medida em centrimentos: {}' .format(Centimetros) )\n",
        "print('A medida em milimetros: {}' .format(Milimetros) )"
      ],
      "execution_count": null,
      "outputs": [
        {
          "output_type": "stream",
          "name": "stdout",
          "text": [
            "Digite uma distância em metros: 50\n",
            "A medida em centrimentos: 5000.0\n",
            "A media em milimetros: 50000.0\n"
          ]
        }
      ]
    },
    {
      "cell_type": "code",
      "metadata": {
        "colab": {
          "base_uri": "https://localhost:8080/"
        },
        "id": "V49WaF7COdlU",
        "outputId": "188887b6-bb32-4f12-cf87-d7e30b8dbbed"
      },
      "source": [
        "# Exercício 6 / 10\n",
        "#  ------- Tabuada -------\n",
        "\n",
        "Valor_01 = int( input('Inserida o valor para ser calculado a Tabuada: '))\n",
        "\n",
        "print('*** Tabuada ***' )\n",
        "print('{} x {} = {}' .format( Valor_01, 1, Valor_01*1 ))\n",
        "print('{} x {} = {}' .format( Valor_01, 2, Valor_01*2 ))\n",
        "print('{} x {} = {}' .format( Valor_01, 3, Valor_01*3 ))\n",
        "print('{} x {} = {}' .format( Valor_01, 4, Valor_01*4 ))\n",
        "print('{} x {} = {}' .format( Valor_01, 5, Valor_01*5 ))\n",
        "print('{} x {} = {}' .format( Valor_01, 6, Valor_01*6 ))\n",
        "print('{} x {} = {}' .format( Valor_01, 7, Valor_01*7 ))\n",
        "print('{} x {} = {}' .format( Valor_01, 8, Valor_01*8 ))\n",
        "print('{} x {} = {}' .format( Valor_01, 9, Valor_01*9 ))\n",
        "print('{} x {} = {}' .format( Valor_01, 10, Valor_01*10 ))"
      ],
      "execution_count": null,
      "outputs": [
        {
          "output_type": "stream",
          "name": "stdout",
          "text": [
            "Inserida o valor para ser calculado a Tabuada: 8\n",
            "*** Tabuada ***\n",
            "8 x 1 = 8\n",
            "8 x 2 = 16\n",
            "8 x 3 = 24\n",
            "8 x 4 = 32\n",
            "8 x 5 = 40\n",
            "8 x 6 = 48\n",
            "8 x 7 = 56\n",
            "8 x 8 = 64\n",
            "8 x 9 = 72\n",
            "8 x 10 = 80\n"
          ]
        }
      ]
    },
    {
      "cell_type": "code",
      "metadata": {
        "colab": {
          "base_uri": "https://localhost:8080/"
        },
        "id": "oKDn58qdQcF2",
        "outputId": "c1a0b933-4e85-4c0b-90fc-8f532d57edc8"
      },
      "source": [
        "# Exercício 7 / 10\n",
        "#  ------- Conversor de Moedas -------\n",
        "\n",
        "Valor_01 = float( input('Quantos reais deseja converter: R$'))\n",
        "\n",
        "# Valores de conversão\n",
        "Dolar = 5.60\n",
        "Euro = 6.20\n",
        "\n",
        "Dolares = round( Valor_01 / Dolar, 2 )\n",
        "Euros = round( Valor_01 / Euro, 2 )\n",
        "\n",
        "print('Em dolares daria: ${}'.format( Dolares ))\n",
        "print('Em euros daria: €{}'.format( Euros ))"
      ],
      "execution_count": null,
      "outputs": [
        {
          "output_type": "stream",
          "name": "stdout",
          "text": [
            "Quantos reais deseja converter: R$10.90\n",
            "Em dolares daria: $1.95\n",
            "Em euros daria: €1.76\n"
          ]
        }
      ]
    },
    {
      "cell_type": "code",
      "metadata": {
        "colab": {
          "base_uri": "https://localhost:8080/"
        },
        "id": "MpKBtKzFY41B",
        "outputId": "e0ada98c-d227-4bac-eee0-a8f770b4aead"
      },
      "source": [
        "# Exercício 8 / 10\n",
        "#  ------- Sorteando um valor -------\n",
        "\n",
        "Nome_01 = input('Participante 1: ')\n",
        "Nome_02 = input('Participante 2: ')\n",
        "Nome_03 = input('Participante 3: ')\n",
        "Nome_04 = input('Participante 4: ')\n",
        "\n",
        "Lista = [Nome_01, Nome_02, Nome_03, Nome_04 ]\n",
        "\n",
        "import random\n",
        "print( 'Sorteado foi: {}' .format( random.choice(Lista) ) )"
      ],
      "execution_count": null,
      "outputs": [
        {
          "output_type": "stream",
          "name": "stdout",
          "text": [
            "Participante 1: Odemir\n",
            "Participante 2: Pedro\n",
            "Participante 3: Maria\n",
            "Participante 4: Alberta\n",
            "Sorteado foi: Pedro\n"
          ]
        }
      ]
    },
    {
      "cell_type": "code",
      "metadata": {
        "colab": {
          "base_uri": "https://localhost:8080/"
        },
        "id": "4sjG25wZSfIZ",
        "outputId": "16c10c50-d42f-41ac-a419-e26aa9ccb7a4"
      },
      "source": [
        "# Exercício 9 / 25\n",
        "#  ------- Ordenando apresentação -------\n",
        "\n",
        "Nome_01 = input('Participante 1: ')\n",
        "Nome_02 = input('Participante 2: ')\n",
        "Nome_03 = input('Participante 3: ')\n",
        "Nome_04 = input('Participante 4: ')\n",
        "\n",
        "Lista = [Nome_01, Nome_02, Nome_03, Nome_04 ]\n",
        "random.shuffle(Lista)\n",
        "\n",
        "import random\n",
        "print( 'Ordem ficou assim: {}' .format( Lista ) )"
      ],
      "execution_count": null,
      "outputs": [
        {
          "output_type": "stream",
          "name": "stdout",
          "text": [
            "Participante 1: Odemir\n",
            "Participante 2: Maria\n",
            "Participante 3: Aulus\n",
            "Participante 4: Pedro\n",
            "Parcipante sorteado foi: ['Odemir', 'Maria', 'Pedro', 'Aulus']\n"
          ]
        }
      ]
    },
    {
      "cell_type": "code",
      "metadata": {
        "colab": {
          "base_uri": "https://localhost:8080/"
        },
        "id": "ZlxSalAZWvYk",
        "outputId": "89b024ff-162d-42cc-804f-263da50e634e"
      },
      "source": [
        "# Exercício 10 / 10\n",
        "#  ------- Formulário de Cadastro -------\n",
        "\n",
        "Nome = input('Nome: ')\n",
        "Sobrenome = input('Sobrenome: ')\n",
        "Sexo = input('Sexo: ')\n",
        "Idade = input('Idade: ')\n",
        "Endereco = input('Endereço: ')\n",
        "Numero = input('Numero: ')\n",
        "Bairro = input('Bairro: ')\n",
        "Cidade = input('Cidade: ')\n",
        "Estado = input('Estado: ')\n",
        "Cep = input('CEP: ')\n",
        "\n",
        "Dados = {\n",
        "    'Nome': Nome,\n",
        "    'Sobrenome': Sobrenome,\n",
        "    'Sexo': Sexo,\n",
        "    'Idade': Idade,\n",
        "    'Endereço': Endereco,\n",
        "    'Numero': Numero,\n",
        "    'Bairro': Bairro,\n",
        "    'Cidade': Estado,\n",
        "    'CEP': Cep\n",
        "}\n",
        "\n",
        "print( 'Dados informados:', Dados )"
      ],
      "execution_count": null,
      "outputs": [
        {
          "output_type": "stream",
          "name": "stdout",
          "text": [
            "Nome: Odemir\n",
            "Sobrenome: Depieri\n",
            "Sexo: M\n",
            "Idade: 29\n",
            "Endereço: Rua Teste\n",
            "Numero: 20\n",
            "Bairro: Vila Lupi\n",
            "Cidade: São João\n",
            "Estado: MG\n",
            "CEP: 09000-120\n",
            "Dados informados: {'Nome': 'Odemir', 'Sobrenome': 'Depieri', 'Sexo': 'M', 'Idade': '29', 'Endereço': 'Rua Teste', 'Numero': '20', 'Bairro': 'Vila Lupi', 'Cidade': 'MG', 'CEP': '09000-120'}\n"
          ]
        }
      ]
    },
    {
      "cell_type": "code",
      "metadata": {
        "id": "z4B9fIuDb7iL"
      },
      "source": [
        ""
      ],
      "execution_count": null,
      "outputs": []
    }
  ]
}
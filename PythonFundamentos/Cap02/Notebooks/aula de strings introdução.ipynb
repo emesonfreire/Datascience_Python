{
 "cells": [
  {
   "cell_type": "markdown",
   "id": "90dec5f2",
   "metadata": {},
   "source": [
    "# string, criar operar e indexar strings\n",
    "para Criar uma string em  Python você pode usar aspas simples ou duplas.Por exemplo:"
   ]
  },
  {
   "cell_type": "code",
   "execution_count": 1,
   "id": "5a8099e7",
   "metadata": {},
   "outputs": [
    {
     "data": {
      "text/plain": [
       "'oi'"
      ]
     },
     "execution_count": 1,
     "metadata": {},
     "output_type": "execute_result"
    }
   ],
   "source": [
    "# uma única palavra\n",
    "'oi'"
   ]
  },
  {
   "cell_type": "code",
   "execution_count": 2,
   "id": "24532d3c",
   "metadata": {},
   "outputs": [
    {
     "data": {
      "text/plain": [
       "'criando uma string em python'"
      ]
     },
     "execution_count": 2,
     "metadata": {},
     "output_type": "execute_result"
    }
   ],
   "source": [
    "# uma frase\n",
    "'criando uma string em python'"
   ]
  },
  {
   "cell_type": "code",
   "execution_count": 3,
   "id": "ca4d6347",
   "metadata": {},
   "outputs": [
    {
     "data": {
      "text/plain": [
       "\"testando string'em python'\""
      ]
     },
     "execution_count": 3,
     "metadata": {},
     "output_type": "execute_result"
    }
   ],
   "source": [
    "# você pode combinar aspas dúplas e simples\n",
    "\"testando string'em python'\""
   ]
  },
  {
   "cell_type": "markdown",
   "id": "99d35471",
   "metadata": {},
   "source": [
    "# Imprimindo uma string\n"
   ]
  },
  {
   "cell_type": "code",
   "execution_count": 4,
   "id": "4b10f5ab",
   "metadata": {},
   "outputs": [
    {
     "name": "stdout",
     "output_type": "stream",
     "text": [
      "testando Strings em Python\n"
     ]
    }
   ],
   "source": [
    "print('testando Strings em Python')"
   ]
  },
  {
   "cell_type": "code",
   "execution_count": 5,
   "id": "2d961d29",
   "metadata": {},
   "outputs": [
    {
     "name": "stdout",
     "output_type": "stream",
     "text": [
      "testando \n",
      "string \n",
      "python\n"
     ]
    }
   ],
   "source": [
    "print('testando \\nstring \\npython')  #\\n é a qubra de linha"
   ]
  },
  {
   "cell_type": "code",
   "execution_count": 6,
   "id": "0224537d",
   "metadata": {},
   "outputs": [
    {
     "name": "stdout",
     "output_type": "stream",
     "text": [
      "\n",
      "\n"
     ]
    }
   ],
   "source": [
    "print('\\n')"
   ]
  },
  {
   "cell_type": "markdown",
   "id": "22bda40e",
   "metadata": {},
   "source": [
    "# indexação de strings"
   ]
  },
  {
   "cell_type": "code",
   "execution_count": 7,
   "id": "46307036",
   "metadata": {},
   "outputs": [],
   "source": [
    "# Atribuindo uma String\n",
    "s = 'datascience academy'"
   ]
  },
  {
   "cell_type": "code",
   "execution_count": 8,
   "id": "8cb39b13",
   "metadata": {},
   "outputs": [
    {
     "name": "stdout",
     "output_type": "stream",
     "text": [
      "datascience academy\n"
     ]
    }
   ],
   "source": [
    "print(s)"
   ]
  },
  {
   "cell_type": "code",
   "execution_count": 9,
   "id": "3add8435",
   "metadata": {},
   "outputs": [
    {
     "data": {
      "text/plain": [
       "'d'"
      ]
     },
     "execution_count": 9,
     "metadata": {},
     "output_type": "execute_result"
    }
   ],
   "source": [
    "#primeiro elemento da string.\n",
    "s [0]"
   ]
  },
  {
   "cell_type": "code",
   "execution_count": 10,
   "id": "31a43baa",
   "metadata": {},
   "outputs": [
    {
     "data": {
      "text/plain": [
       "'a'"
      ]
     },
     "execution_count": 10,
     "metadata": {},
     "output_type": "execute_result"
    }
   ],
   "source": [
    "s[1]"
   ]
  },
  {
   "cell_type": "code",
   "execution_count": 11,
   "id": "680ab12f",
   "metadata": {},
   "outputs": [
    {
     "data": {
      "text/plain": [
       "'t'"
      ]
     },
     "execution_count": 11,
     "metadata": {},
     "output_type": "execute_result"
    }
   ],
   "source": [
    "s[2]"
   ]
  },
  {
   "cell_type": "markdown",
   "id": "1e9f98f5",
   "metadata": {},
   "source": [
    "## podemos usar um : para executar um slicing que faz a leitura de tudo até um ponto designado.Por exemplo:"
   ]
  },
  {
   "cell_type": "code",
   "execution_count": 12,
   "id": "857c9346",
   "metadata": {},
   "outputs": [
    {
     "data": {
      "text/plain": [
       "'atascience academy'"
      ]
     },
     "execution_count": 12,
     "metadata": {},
     "output_type": "execute_result"
    }
   ],
   "source": [
    "# retorna todos os elementos da string, começando pela posição (lembre-se que python começa a indexação pela posição 0),\n",
    "#até o fim da string.\n",
    "s[1:]"
   ]
  },
  {
   "cell_type": "code",
   "execution_count": 13,
   "id": "32ff5e60",
   "metadata": {},
   "outputs": [
    {
     "data": {
      "text/plain": [
       "'datascience academy'"
      ]
     },
     "execution_count": 13,
     "metadata": {},
     "output_type": "execute_result"
    }
   ],
   "source": [
    "#a string original permanece inalterada\n",
    "s"
   ]
  },
  {
   "cell_type": "code",
   "execution_count": 14,
   "id": "e13b1b52",
   "metadata": {},
   "outputs": [
    {
     "data": {
      "text/plain": [
       "'dat'"
      ]
     },
     "execution_count": 14,
     "metadata": {},
     "output_type": "execute_result"
    }
   ],
   "source": [
    "#retorna tudo até a pósição 3\n",
    "s[:3]"
   ]
  },
  {
   "cell_type": "code",
   "execution_count": 15,
   "id": "a60ffb4d",
   "metadata": {},
   "outputs": [
    {
     "data": {
      "text/plain": [
       "'datascience academy'"
      ]
     },
     "execution_count": 15,
     "metadata": {},
     "output_type": "execute_result"
    }
   ],
   "source": [
    "s[:]"
   ]
  },
  {
   "cell_type": "code",
   "execution_count": 16,
   "id": "d8430fab",
   "metadata": {},
   "outputs": [
    {
     "data": {
      "text/plain": [
       "'y'"
      ]
     },
     "execution_count": 16,
     "metadata": {},
     "output_type": "execute_result"
    }
   ],
   "source": [
    "# nós podemos usar  a indexação negativa e ler de trás para frente.\n",
    "s[-1]"
   ]
  },
  {
   "cell_type": "code",
   "execution_count": 17,
   "id": "e2bfc05f",
   "metadata": {},
   "outputs": [],
   "source": [
    "# nós tambem podemos usar a notação de indice fatiar a string em pedaços específicos (o padrão é '1'). Por exemplo, podemos \n",
    "#usar dois pontos duas vezes em uma \n",
    "#linha e em seguida, um nuero que especifica a frequência para retornar elementos.por exemplos:"
   ]
  },
  {
   "cell_type": "code",
   "execution_count": 18,
   "id": "dc99319e",
   "metadata": {},
   "outputs": [
    {
     "data": {
      "text/plain": [
       "'datascience academy'"
      ]
     },
     "execution_count": 18,
     "metadata": {},
     "output_type": "execute_result"
    }
   ],
   "source": [
    "s[::1]\n"
   ]
  },
  {
   "cell_type": "code",
   "execution_count": 22,
   "id": "92b0909d",
   "metadata": {},
   "outputs": [
    {
     "data": {
      "text/plain": [
       "'dtsineaaey'"
      ]
     },
     "execution_count": 22,
     "metadata": {},
     "output_type": "execute_result"
    }
   ],
   "source": [
    "s[::2]"
   ]
  },
  {
   "cell_type": "markdown",
   "id": "b177110e",
   "metadata": {},
   "source": [
    "# Propriedades de S trings"
   ]
  },
  {
   "cell_type": "code",
   "execution_count": 20,
   "id": "d2bb7397",
   "metadata": {},
   "outputs": [
    {
     "data": {
      "text/plain": [
       "'datascience academy'"
      ]
     },
     "execution_count": 20,
     "metadata": {},
     "output_type": "execute_result"
    }
   ],
   "source": [
    "s"
   ]
  },
  {
   "cell_type": "code",
   "execution_count": 21,
   "id": "7af0147b",
   "metadata": {},
   "outputs": [
    {
     "ename": "TypeError",
     "evalue": "'str' object does not support item assignment",
     "output_type": "error",
     "traceback": [
      "\u001b[1;31m---------------------------------------------------------------------------\u001b[0m",
      "\u001b[1;31mTypeError\u001b[0m                                 Traceback (most recent call last)",
      "\u001b[1;32m~\\AppData\\Local\\Temp/ipykernel_10160/1693692672.py\u001b[0m in \u001b[0;36m<module>\u001b[1;34m\u001b[0m\n\u001b[0;32m      1\u001b[0m \u001b[1;31m#  alterando um caracter\u001b[0m\u001b[1;33m\u001b[0m\u001b[1;33m\u001b[0m\u001b[0m\n\u001b[1;32m----> 2\u001b[1;33m \u001b[0ms\u001b[0m\u001b[1;33m[\u001b[0m\u001b[1;36m0\u001b[0m\u001b[1;33m]\u001b[0m \u001b[1;33m=\u001b[0m \u001b[1;34m'x'\u001b[0m\u001b[1;33m\u001b[0m\u001b[1;33m\u001b[0m\u001b[0m\n\u001b[0m",
      "\u001b[1;31mTypeError\u001b[0m: 'str' object does not support item assignment"
     ]
    }
   ],
   "source": [
    "#  alterando um caracter\n",
    "s[0] = 'x'"
   ]
  },
  {
   "cell_type": "code",
   "execution_count": 23,
   "id": "5c0c74b8",
   "metadata": {},
   "outputs": [
    {
     "data": {
      "text/plain": [
       "'datascience academy é a melhor maneira de estar preparado para o mercado de trabalho em ciência de dados!'"
      ]
     },
     "execution_count": 23,
     "metadata": {},
     "output_type": "execute_result"
    }
   ],
   "source": [
    "#Concatenando strings\n",
    "s + ' é a melhor maneira de estar preparado para o mercado de trabalho em ciência de dados!'"
   ]
  },
  {
   "cell_type": "code",
   "execution_count": 25,
   "id": "2109e9a3",
   "metadata": {},
   "outputs": [],
   "source": [
    "s = s +' é a melhor maneira de estar preparado para o mercado de trabalho em ciência de dados!'"
   ]
  },
  {
   "cell_type": "code",
   "execution_count": 26,
   "id": "c714a9f5",
   "metadata": {},
   "outputs": [
    {
     "name": "stdout",
     "output_type": "stream",
     "text": [
      "datascience academy é a melhor maneira de estar preparado para o mercado de trabalho em ciência de dados! é a melhor maneira de estar preparado para o mercado de trabalho em ciência de dados!\n"
     ]
    }
   ],
   "source": [
    "print(s)"
   ]
  },
  {
   "cell_type": "code",
   "execution_count": 32,
   "id": "a5325d8a",
   "metadata": {},
   "outputs": [],
   "source": [
    "#podemos usar o simbolo de multiplicação para criar repetição\n",
    "letra = 'w'"
   ]
  },
  {
   "cell_type": "code",
   "execution_count": 33,
   "id": "ab49a120",
   "metadata": {},
   "outputs": [
    {
     "data": {
      "text/plain": [
       "'www'"
      ]
     },
     "execution_count": 33,
     "metadata": {},
     "output_type": "execute_result"
    }
   ],
   "source": [
    "letra * 3"
   ]
  },
  {
   "cell_type": "markdown",
   "id": "d6da6c2f",
   "metadata": {},
   "source": [
    "# Funções built-in de Strings\n"
   ]
  },
  {
   "cell_type": "code",
   "execution_count": null,
   "id": "e43db4e8",
   "metadata": {},
   "outputs": [],
   "source": []
  },
  {
   "cell_type": "code",
   "execution_count": 34,
   "id": "ca3b5d8d",
   "metadata": {},
   "outputs": [
    {
     "data": {
      "text/plain": [
       "'DATASCIENCE ACADEMY É A MELHOR MANEIRA DE ESTAR PREPARADO PARA O MERCADO DE TRABALHO EM CIÊNCIA DE DADOS! É A MELHOR MANEIRA DE ESTAR PREPARADO PARA O MERCADO DE TRABALHO EM CIÊNCIA DE DADOS!'"
      ]
     },
     "execution_count": 34,
     "metadata": {},
     "output_type": "execute_result"
    }
   ],
   "source": [
    "# Upper Case\n",
    "s.upper()"
   ]
  },
  {
   "cell_type": "code",
   "execution_count": 35,
   "id": "e1ec60df",
   "metadata": {},
   "outputs": [
    {
     "data": {
      "text/plain": [
       "'datascience academy é a melhor maneira de estar preparado para o mercado de trabalho em ciência de dados! é a melhor maneira de estar preparado para o mercado de trabalho em ciência de dados!'"
      ]
     },
     "execution_count": 35,
     "metadata": {},
     "output_type": "execute_result"
    }
   ],
   "source": [
    "#lower case\n",
    "s.lower()"
   ]
  },
  {
   "cell_type": "code",
   "execution_count": 36,
   "id": "39e57b35",
   "metadata": {},
   "outputs": [
    {
     "data": {
      "text/plain": [
       "['datascience',\n",
       " 'academy',\n",
       " 'é',\n",
       " 'a',\n",
       " 'melhor',\n",
       " 'maneira',\n",
       " 'de',\n",
       " 'estar',\n",
       " 'preparado',\n",
       " 'para',\n",
       " 'o',\n",
       " 'mercado',\n",
       " 'de',\n",
       " 'trabalho',\n",
       " 'em',\n",
       " 'ciência',\n",
       " 'de',\n",
       " 'dados!',\n",
       " 'é',\n",
       " 'a',\n",
       " 'melhor',\n",
       " 'maneira',\n",
       " 'de',\n",
       " 'estar',\n",
       " 'preparado',\n",
       " 'para',\n",
       " 'o',\n",
       " 'mercado',\n",
       " 'de',\n",
       " 'trabalho',\n",
       " 'em',\n",
       " 'ciência',\n",
       " 'de',\n",
       " 'dados!']"
      ]
     },
     "execution_count": 36,
     "metadata": {},
     "output_type": "execute_result"
    }
   ],
   "source": [
    "#dividir uma string por espaços em branco (padrão)\n",
    "s.split()"
   ]
  },
  {
   "cell_type": "code",
   "execution_count": 37,
   "id": "87cd62ee",
   "metadata": {},
   "outputs": [
    {
     "data": {
      "text/plain": [
       "['datascience academ',\n",
       " ' é a melhor maneira de estar preparado para o mercado de trabalho em ciência de dados! é a melhor maneira de estar preparado para o mercado de trabalho em ciência de dados!']"
      ]
     },
     "execution_count": 37,
     "metadata": {},
     "output_type": "execute_result"
    }
   ],
   "source": [
    "# dividir uma string por um elemento específico\n",
    "s.split('y')"
   ]
  },
  {
   "cell_type": "markdown",
   "id": "1d5c85a2",
   "metadata": {},
   "source": [
    "# Funções String"
   ]
  },
  {
   "cell_type": "code",
   "execution_count": 38,
   "id": "fd4d8548",
   "metadata": {},
   "outputs": [],
   "source": [
    "s= 'seja bem vindo ao universo de python'"
   ]
  },
  {
   "cell_type": "code",
   "execution_count": 40,
   "id": "4a41c77a",
   "metadata": {},
   "outputs": [
    {
     "data": {
      "text/plain": [
       "'Seja bem vindo ao universo de python'"
      ]
     },
     "execution_count": 40,
     "metadata": {},
     "output_type": "execute_result"
    }
   ],
   "source": [
    "s.capitalize()  #transforma a ° letra em maiúsculo "
   ]
  },
  {
   "cell_type": "code",
   "execution_count": 41,
   "id": "57f85677",
   "metadata": {},
   "outputs": [
    {
     "data": {
      "text/plain": [
       "2"
      ]
     },
     "execution_count": 41,
     "metadata": {},
     "output_type": "execute_result"
    }
   ],
   "source": [
    "s.count('a') #contagem"
   ]
  },
  {
   "cell_type": "code",
   "execution_count": 42,
   "id": "12aa2f6b",
   "metadata": {},
   "outputs": [
    {
     "data": {
      "text/plain": [
       "30"
      ]
     },
     "execution_count": 42,
     "metadata": {},
     "output_type": "execute_result"
    }
   ],
   "source": [
    "s.find('p') #posição"
   ]
  },
  {
   "cell_type": "code",
   "execution_count": 43,
   "id": "c82d04e5",
   "metadata": {},
   "outputs": [
    {
     "data": {
      "text/plain": [
       "False"
      ]
     },
     "execution_count": 43,
     "metadata": {},
     "output_type": "execute_result"
    }
   ],
   "source": [
    "s.isspace() #se tem espaço"
   ]
  },
  {
   "cell_type": "code",
   "execution_count": 47,
   "id": "f1184f06",
   "metadata": {},
   "outputs": [
    {
     "data": {
      "text/plain": [
       "False"
      ]
     },
     "execution_count": 47,
     "metadata": {},
     "output_type": "execute_result"
    }
   ],
   "source": [
    "s.endswith('o') # se termina com a letra o do exempo"
   ]
  },
  {
   "cell_type": "markdown",
   "id": "b589cc38",
   "metadata": {},
   "source": [
    "## COMPARANDO STRING"
   ]
  },
  {
   "cell_type": "code",
   "execution_count": 48,
   "id": "5f1ed5e5",
   "metadata": {},
   "outputs": [
    {
     "name": "stdout",
     "output_type": "stream",
     "text": [
      "False\n"
     ]
    }
   ],
   "source": [
    "print(\"python\" == \"r\")"
   ]
  },
  {
   "cell_type": "code",
   "execution_count": 49,
   "id": "45dfd5cb",
   "metadata": {},
   "outputs": [
    {
     "name": "stdout",
     "output_type": "stream",
     "text": [
      "True\n"
     ]
    }
   ],
   "source": [
    "print(\"python\"== \"python\")"
   ]
  },
  {
   "cell_type": "markdown",
   "id": "8c208117",
   "metadata": {},
   "source": [
    "## fim"
   ]
  },
  {
   "cell_type": "code",
   "execution_count": null,
   "id": "750fddee",
   "metadata": {},
   "outputs": [],
   "source": []
  }
 ],
 "metadata": {
  "kernelspec": {
   "display_name": "Python 3 (ipykernel)",
   "language": "python",
   "name": "python3"
  },
  "language_info": {
   "codemirror_mode": {
    "name": "ipython",
    "version": 3
   },
   "file_extension": ".py",
   "mimetype": "text/x-python",
   "name": "python",
   "nbconvert_exporter": "python",
   "pygments_lexer": "ipython3",
   "version": "3.9.7"
  }
 },
 "nbformat": 4,
 "nbformat_minor": 5
}

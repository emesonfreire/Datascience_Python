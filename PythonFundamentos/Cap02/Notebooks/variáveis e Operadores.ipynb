{
 "cells": [
  {
   "cell_type": "markdown",
   "id": "0488ee99",
   "metadata": {},
   "source": [
    "# variáveis e operadores\n"
   ]
  },
  {
   "cell_type": "code",
   "execution_count": null,
   "id": "1e699776",
   "metadata": {},
   "outputs": [],
   "source": [
    "# atribuindo o valor 1 a variável var_teste\n",
    "var_teste = 1"
   ]
  },
  {
   "cell_type": "code",
   "execution_count": null,
   "id": "7bec1147",
   "metadata": {},
   "outputs": [],
   "source": [
    "#impimindo o valor da variável\n",
    "var_teste"
   ]
  },
  {
   "cell_type": "code",
   "execution_count": null,
   "id": "93371068",
   "metadata": {},
   "outputs": [],
   "source": [
    "#imprimindo o valor da variável\n",
    "print(var_teste)"
   ]
  },
  {
   "cell_type": "code",
   "execution_count": null,
   "id": "f615835e",
   "metadata": {},
   "outputs": [],
   "source": [
    "#não podemos usar uma variável que não foi definida. Veja a mensagen de erro\n",
    "my_var\n"
   ]
  },
  {
   "cell_type": "code",
   "execution_count": null,
   "id": "f5ee1626",
   "metadata": {},
   "outputs": [],
   "source": [
    "var_teste = 2"
   ]
  },
  {
   "cell_type": "code",
   "execution_count": null,
   "id": "967b4473",
   "metadata": {},
   "outputs": [],
   "source": [
    "var_teste"
   ]
  },
  {
   "cell_type": "code",
   "execution_count": null,
   "id": "62fb5fe0",
   "metadata": {},
   "outputs": [],
   "source": [
    "type(var_teste)"
   ]
  },
  {
   "cell_type": "code",
   "execution_count": null,
   "id": "01410d12",
   "metadata": {},
   "outputs": [],
   "source": [
    "var_teste = 9.5"
   ]
  },
  {
   "cell_type": "markdown",
   "id": "9fd0b62f",
   "metadata": {},
   "source": [
    "## Declaração multipla"
   ]
  },
  {
   "cell_type": "code",
   "execution_count": null,
   "id": "a72392f2",
   "metadata": {},
   "outputs": [],
   "source": [
    "pessoa1, pessoa2, pessoa3 = \"maria\", \"jose\", \"tobias\"\n"
   ]
  },
  {
   "cell_type": "code",
   "execution_count": null,
   "id": "82ce03fb",
   "metadata": {},
   "outputs": [],
   "source": [
    "pessoa1"
   ]
  },
  {
   "cell_type": "code",
   "execution_count": null,
   "id": "aa44a1f3",
   "metadata": {},
   "outputs": [],
   "source": [
    "pessoa2"
   ]
  },
  {
   "cell_type": "code",
   "execution_count": null,
   "id": "b4be4c35",
   "metadata": {},
   "outputs": [],
   "source": [
    "pessoa3"
   ]
  },
  {
   "cell_type": "code",
   "execution_count": null,
   "id": "b1deaa80",
   "metadata": {},
   "outputs": [],
   "source": [
    "fruta1 = fruta2=fruta2=fruta3= \"laranja\""
   ]
  },
  {
   "cell_type": "code",
   "execution_count": null,
   "id": "19dfa91b",
   "metadata": {},
   "outputs": [],
   "source": [
    "fruta1"
   ]
  },
  {
   "cell_type": "code",
   "execution_count": null,
   "id": "865e419a",
   "metadata": {},
   "outputs": [],
   "source": [
    "fruta2"
   ]
  },
  {
   "cell_type": "code",
   "execution_count": null,
   "id": "67ab8254",
   "metadata": {},
   "outputs": [],
   "source": [
    "fruta3"
   ]
  },
  {
   "cell_type": "markdown",
   "id": "4eecef77",
   "metadata": {},
   "source": [
    "## Pode-se usar letras, números e underline (mas não se pode começar com números)"
   ]
  },
  {
   "cell_type": "code",
   "execution_count": null,
   "id": "c4600ec1",
   "metadata": {},
   "outputs": [],
   "source": [
    "x1 = 50"
   ]
  },
  {
   "cell_type": "code",
   "execution_count": null,
   "id": "2590e750",
   "metadata": {},
   "outputs": [],
   "source": [
    "x1"
   ]
  },
  {
   "cell_type": "code",
   "execution_count": null,
   "id": "50992fd5",
   "metadata": {},
   "outputs": [],
   "source": [
    "#mensagem de erro, pois o python não permite nomes de variáveis que iniciem com números \n",
    "1x = 50"
   ]
  },
  {
   "cell_type": "markdown",
   "id": "058785f7",
   "metadata": {},
   "source": [
    "## Não se pode utilizar palavras reservadas como nome de variiável\n",
    "\n",
    "## FALSE\n",
    "## CLASS\n",
    "## FINALLY\n",
    "## IS\n",
    "## BREAK\n",
    "## EXCEPT\n",
    "## IN\n",
    "## RAISE"
   ]
  },
  {
   "cell_type": "markdown",
   "id": "5d1581b5",
   "metadata": {},
   "source": [
    "## vARIAVEIS ATRIBUIDAS A OUTRAS VARIÁVEIS E ORDEM DOS OPERADORES."
   ]
  },
  {
   "cell_type": "code",
   "execution_count": null,
   "id": "8117fbc9",
   "metadata": {},
   "outputs": [],
   "source": [
    "largura = 2\n"
   ]
  },
  {
   "cell_type": "code",
   "execution_count": null,
   "id": "ad0c506e",
   "metadata": {},
   "outputs": [],
   "source": [
    "altura = 4"
   ]
  },
  {
   "cell_type": "code",
   "execution_count": null,
   "id": "8625f628",
   "metadata": {},
   "outputs": [],
   "source": [
    "area = largura * altura"
   ]
  },
  {
   "cell_type": "code",
   "execution_count": null,
   "id": "5b91c506",
   "metadata": {},
   "outputs": [],
   "source": [
    "area"
   ]
  },
  {
   "cell_type": "code",
   "execution_count": null,
   "id": "270bf536",
   "metadata": {},
   "outputs": [],
   "source": [
    "perimetro= 2 * largura + 2 *altura"
   ]
  },
  {
   "cell_type": "code",
   "execution_count": null,
   "id": "ae59339d",
   "metadata": {},
   "outputs": [],
   "source": [
    "perimetro"
   ]
  },
  {
   "cell_type": "code",
   "execution_count": null,
   "id": "52b25a12",
   "metadata": {},
   "outputs": [],
   "source": [
    "# a ordem dos operadores é a mesma seguida na Matemática\n",
    "perimetro = 2 * (largura + 2) * altura"
   ]
  },
  {
   "cell_type": "code",
   "execution_count": null,
   "id": "c2be8801",
   "metadata": {},
   "outputs": [],
   "source": [
    "perimetro"
   ]
  },
  {
   "cell_type": "markdown",
   "id": "fc19da2f",
   "metadata": {},
   "source": [
    "## Operações com variáveis"
   ]
  },
  {
   "cell_type": "code",
   "execution_count": null,
   "id": "4f76a840",
   "metadata": {},
   "outputs": [],
   "source": [
    "idade1 = 25"
   ]
  },
  {
   "cell_type": "code",
   "execution_count": null,
   "id": "97f99f86",
   "metadata": {},
   "outputs": [],
   "source": [
    "idade2 = 35"
   ]
  },
  {
   "cell_type": "code",
   "execution_count": null,
   "id": "eade3a33",
   "metadata": {},
   "outputs": [],
   "source": [
    "idade1+idade2"
   ]
  },
  {
   "cell_type": "code",
   "execution_count": null,
   "id": "2c3b3451",
   "metadata": {},
   "outputs": [],
   "source": [
    "idade2-idade1"
   ]
  },
  {
   "cell_type": "code",
   "execution_count": null,
   "id": "fba446fc",
   "metadata": {},
   "outputs": [],
   "source": [
    "idade2*idade1"
   ]
  },
  {
   "cell_type": "code",
   "execution_count": null,
   "id": "ba96eb93",
   "metadata": {},
   "outputs": [],
   "source": [
    "idade2/idade1"
   ]
  },
  {
   "cell_type": "code",
   "execution_count": null,
   "id": "528203b0",
   "metadata": {},
   "outputs": [],
   "source": [
    "idade2 % idade1"
   ]
  },
  {
   "cell_type": "markdown",
   "id": "90df3306",
   "metadata": {},
   "source": [
    "## Concatenação de variáveis"
   ]
  },
  {
   "cell_type": "code",
   "execution_count": 2,
   "id": "c3187d61",
   "metadata": {},
   "outputs": [],
   "source": [
    "nome = \"Steve\""
   ]
  },
  {
   "cell_type": "code",
   "execution_count": 3,
   "id": "6c91bef7",
   "metadata": {},
   "outputs": [],
   "source": [
    "sobrenome = \"jobs\""
   ]
  },
  {
   "cell_type": "code",
   "execution_count": 4,
   "id": "d51253cb",
   "metadata": {},
   "outputs": [],
   "source": [
    "fullname = nome +\" \"+sobrenome"
   ]
  },
  {
   "cell_type": "code",
   "execution_count": 5,
   "id": "6b5989b9",
   "metadata": {},
   "outputs": [
    {
     "data": {
      "text/plain": [
       "'Steve jobs'"
      ]
     },
     "execution_count": 5,
     "metadata": {},
     "output_type": "execute_result"
    }
   ],
   "source": [
    "fullname"
   ]
  },
  {
   "cell_type": "code",
   "execution_count": null,
   "id": "05fd9547",
   "metadata": {},
   "outputs": [],
   "source": []
  },
  {
   "cell_type": "code",
   "execution_count": null,
   "id": "8e884e46",
   "metadata": {},
   "outputs": [],
   "source": []
  }
 ],
 "metadata": {
  "kernelspec": {
   "display_name": "Python 3 (ipykernel)",
   "language": "python",
   "name": "python3"
  },
  "language_info": {
   "codemirror_mode": {
    "name": "ipython",
    "version": 3
   },
   "file_extension": ".py",
   "mimetype": "text/x-python",
   "name": "python",
   "nbconvert_exporter": "python",
   "pygments_lexer": "ipython3",
   "version": "3.9.7"
  }
 },
 "nbformat": 4,
 "nbformat_minor": 5
}

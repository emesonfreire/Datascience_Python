{
  "nbformat": 4,
  "nbformat_minor": 0,
  "metadata": {
    "colab": {
      "name": "Aula - 02 - Python.ipynb",
      "provenance": [],
      "collapsed_sections": [],
      "include_colab_link": true
    },
    "kernelspec": {
      "name": "python3",
      "display_name": "Python 3"
    },
    "language_info": {
      "name": "python"
    }
  },
  "cells": [
    {
      "cell_type": "markdown",
      "metadata": {
        "id": "view-in-github",
        "colab_type": "text"
      },
      "source": [
        "<a href=\"https://colab.research.google.com/github/emesonfreire/Datascience_Python/blob/main/Aula_02_Python.ipynb\" target=\"_parent\"><img src=\"https://colab.research.google.com/assets/colab-badge.svg\" alt=\"Open In Colab\"/></a>"
      ]
    },
    {
      "cell_type": "code",
      "execution_count": null,
      "metadata": {
        "colab": {
          "base_uri": "https://localhost:8080/"
        },
        "id": "NltqrwjTriRN",
        "outputId": "ccd38a3e-8aab-45ba-c7ca-0534cb156635"
      },
      "outputs": [
        {
          "output_type": "stream",
          "name": "stdout",
          "text": [
            "Maior de Idade\n"
          ]
        }
      ],
      "source": [
        "# Condição IF\n",
        "Idade = int( 18 )\n",
        "Maior_Idade = int( 18 )\n",
        "\n",
        "if Idade >= Maior_Idade:\n",
        "  print('Maior de Idade')"
      ]
    },
    {
      "cell_type": "code",
      "source": [
        "# Condição IF + ELSE\n",
        "Idade = int( 5 )\n",
        "Maior_Idade = int( 18 )\n",
        "\n",
        "if Idade >= Maior_Idade:\n",
        "  print('Maior de Idade')\n",
        "\n",
        "else:\n",
        "  print('Menor de Idade')"
      ],
      "metadata": {
        "colab": {
          "base_uri": "https://localhost:8080/"
        },
        "id": "OkwuM6PssBb3",
        "outputId": "d6284e8d-2956-4fd8-e947-ce0778d6d4bb"
      },
      "execution_count": null,
      "outputs": [
        {
          "output_type": "stream",
          "name": "stdout",
          "text": [
            "Menor de Idade\n"
          ]
        }
      ]
    },
    {
      "cell_type": "code",
      "source": [
        "# Condição IF + ELSE + ELIF\n",
        "Idade = int( input('Qual sua idade: ') )\n",
        "Maior_Idade = int( 18 )\n",
        "\n",
        "if Idade > Maior_Idade:\n",
        "  print('Maior de Idade')\n",
        "\n",
        "elif Idade == Maior_Idade:  \n",
        "  print('Quase em!')\n",
        "\n",
        "else:\n",
        "  print('Menor de Idade')"
      ],
      "metadata": {
        "colab": {
          "base_uri": "https://localhost:8080/"
        },
        "id": "ehoMD2VUsQga",
        "outputId": "a9e5b302-c57e-4a23-a763-c151e588fa6d"
      },
      "execution_count": null,
      "outputs": [
        {
          "output_type": "stream",
          "name": "stdout",
          "text": [
            "Qual sua idade: 18\n",
            "Quase em!\n"
          ]
        }
      ]
    },
    {
      "cell_type": "code",
      "source": [
        "# Condição IF + ELSE + ELIF\n",
        "# Case INSS\n",
        "\n",
        "'''\n",
        "  Tabela do INSS de 01/2022\n",
        "  até 1.212,00\t7,5%\n",
        "  de 1.212,01 até 2.427,35\t9%\n",
        "  de 2.427,36 até 3.641,03\t12 %\n",
        "  de 3.641,04 até 7.087,22\t14%\n",
        "'''\n",
        "\n",
        "# Inpurt\n",
        "Salario = float ( input('Qual seu salário: ') )\n",
        "\n",
        "# Condição\n",
        "if Salario >= 3641.04:\n",
        "  Imposto = Salario * 0.14 \n",
        "\n",
        "elif Salario >= 2427.36:\n",
        "  Imposto = Salario * 0.12\n",
        "\n",
        "elif Salario >= 1212.01:\n",
        "  Imposto = Salario * 0.09\n",
        "\n",
        "else:\n",
        "  Imposto = Salario * 0.075\n",
        "\n",
        "print('Tributação de INSS no valor de : R$', round(Imposto, 2) )"
      ],
      "metadata": {
        "colab": {
          "base_uri": "https://localhost:8080/"
        },
        "id": "ngMOTpa8siRQ",
        "outputId": "6cd280dc-361a-4f04-8403-6186a15b4525"
      },
      "execution_count": null,
      "outputs": [
        {
          "output_type": "stream",
          "name": "stdout",
          "text": [
            "Qual seu salário: 3641.03\n",
            "Tributação de INSS no valor de : R$ 436.92\n"
          ]
        }
      ]
    },
    {
      "cell_type": "code",
      "source": [
        "# For - Loop\n",
        "for QualquerCoisa in range(10):\n",
        "  print( QualquerCoisa ** 2 )"
      ],
      "metadata": {
        "colab": {
          "base_uri": "https://localhost:8080/"
        },
        "id": "_2KCr9UWvO51",
        "outputId": "3cbfb4f1-9551-4ecd-b8c7-f9313f0219f2"
      },
      "execution_count": null,
      "outputs": [
        {
          "output_type": "stream",
          "name": "stdout",
          "text": [
            "0\n",
            "1\n",
            "4\n",
            "9\n",
            "16\n",
            "25\n",
            "36\n",
            "49\n",
            "64\n",
            "81\n"
          ]
        }
      ]
    },
    {
      "cell_type": "code",
      "source": [
        "# For + Lista\n",
        "Lista = ['Brasil', 'Argentina', 'Uruguai']\n",
        "\n",
        "for QualquerCoisa in Lista:\n",
        "  print( QualquerCoisa )"
      ],
      "metadata": {
        "colab": {
          "base_uri": "https://localhost:8080/"
        },
        "id": "J9Uquab8zidG",
        "outputId": "570cf9c1-b4cd-42fb-eba3-dc70937b577a"
      },
      "execution_count": null,
      "outputs": [
        {
          "output_type": "stream",
          "name": "stdout",
          "text": [
            "Brasil\n",
            "Argentina\n",
            "Uruguai\n"
          ]
        }
      ]
    },
    {
      "cell_type": "code",
      "source": [
        "# For + Lista + IF\n",
        "Lista = ['Brasil', 'Argentina', 'Uruguai', 'Paraguai', 'Chile']\n",
        "\n",
        "for QualquerCoisa in Lista:\n",
        "\n",
        "  if QualquerCoisa == 'Paraguai':\n",
        "    print( 'Moeda Guarany' )\n",
        "\n",
        "  else:\n",
        "    pass"
      ],
      "metadata": {
        "colab": {
          "base_uri": "https://localhost:8080/"
        },
        "id": "qbKHdJHP0DXJ",
        "outputId": "f26ef0b3-7aa0-403a-dbf8-acec41a48ad3"
      },
      "execution_count": null,
      "outputs": [
        {
          "output_type": "stream",
          "name": "stdout",
          "text": [
            "Moeda Guarany\n"
          ]
        }
      ]
    },
    {
      "cell_type": "code",
      "source": [
        "# For + Lista + IF + Break\n",
        "Lista = ['Brasil', 'Argentina', 'Uruguai', 'Paraguai', 'Chile']\n",
        "Loop = 0\n",
        "\n",
        "for QualquerCoisa in Lista:\n",
        "\n",
        "  if QualquerCoisa == 'Uruguai':\n",
        "    print( 'Moeda Peso Uruguaio' )\n",
        "    break\n",
        "    \n",
        "  else:\n",
        "    pass\n",
        "    \n",
        "  Loop += 1\n",
        "\n",
        "print( Loop )"
      ],
      "metadata": {
        "colab": {
          "base_uri": "https://localhost:8080/"
        },
        "id": "qNArYtMG0fT8",
        "outputId": "80051d8a-e68c-4bf2-9ae4-68201a2d82de"
      },
      "execution_count": null,
      "outputs": [
        {
          "output_type": "stream",
          "name": "stdout",
          "text": [
            "Moeda Peso Uruguaio\n",
            "5\n"
          ]
        }
      ]
    },
    {
      "cell_type": "code",
      "source": [
        "# For + Lista + IF + Enumerate\n",
        "Lista = ['Brasil', 'Argentina', 'Uruguai', 'Paraguai', 'Chile']\n",
        "\n",
        "for Posicao, QualquerCoisa in enumerate(Lista):\n",
        "\n",
        "  if QualquerCoisa == 'Uruguai':\n",
        "    print( 'Moeda Peso Uruguaio' )\n",
        "    \n",
        "  else:\n",
        "    pass\n",
        "\n",
        "  print( Posicao )"
      ],
      "metadata": {
        "colab": {
          "base_uri": "https://localhost:8080/"
        },
        "id": "gSY5e9vo000_",
        "outputId": "65e0fe40-d829-4a88-d2d8-5544a159cf77"
      },
      "execution_count": null,
      "outputs": [
        {
          "output_type": "stream",
          "name": "stdout",
          "text": [
            "0\n",
            "1\n",
            "Moeda Peso Uruguaio\n",
            "2\n",
            "3\n",
            "4\n"
          ]
        }
      ]
    },
    {
      "cell_type": "code",
      "source": [
        "# For + Lista + IF + range\n",
        "\n",
        "# Gerando uma lista de 2 a 100 mas pulando de 5 em 5\n",
        "Lista = [ Numero for Numero in range(2, 100, 5) ]\n",
        "Armazenar = []\n",
        "\n",
        "for Valor in Lista:\n",
        "\n",
        "  if Valor % 2 == 0:\n",
        "    Armazenar.append( Valor )\n",
        "\n",
        "print( Armazenar )"
      ],
      "metadata": {
        "colab": {
          "base_uri": "https://localhost:8080/"
        },
        "id": "uCILF1-21DXW",
        "outputId": "57f395a9-3cb5-4184-d6af-2772c7805104"
      },
      "execution_count": null,
      "outputs": [
        {
          "output_type": "stream",
          "name": "stdout",
          "text": [
            "[2, 12, 22, 32, 42, 52, 62, 72, 82, 92]\n"
          ]
        }
      ]
    },
    {
      "cell_type": "code",
      "source": [
        "# For + Lista + Dicionario\n",
        "\n",
        "Lista = ['Brasil', 'Argentina', 'Uruguai', 'Paraguai', 'Chile']\n",
        "\n",
        "Moedas = {\n",
        "    'Brasil' : 'Real',\n",
        "    'Argentina' : 'Peso Arg',\n",
        "    'Uruguai' : 'Peso Uru',\n",
        "    'Paraguai' : 'Guarany',\n",
        "    'Chile' : 'Peso Chi'\n",
        "}\n",
        "\n",
        "for Pais in Lista:\n",
        "  print( Moedas[Pais] )"
      ],
      "metadata": {
        "colab": {
          "base_uri": "https://localhost:8080/"
        },
        "id": "AUQ9ZqDr2OvW",
        "outputId": "c936c7b8-e7f9-4b0a-be5a-cc72dc3a081b"
      },
      "execution_count": null,
      "outputs": [
        {
          "output_type": "stream",
          "name": "stdout",
          "text": [
            "Real\n",
            "Peso Arg\n",
            "Peso Uru\n",
            "Guarany\n",
            "Peso Chi\n"
          ]
        }
      ]
    },
    {
      "cell_type": "code",
      "source": [
        "# Função para numeros aleatorios\n",
        "from random import randint\n",
        "\n",
        "# Gerando uma lista com numeros aleatorios\n",
        "Lista_01 = [ randint(0,2) for Numero in range(5) ]\n",
        "Lista_02 = [ randint(0,100) for Numero in range(5) ]\n",
        "\n",
        "for L1, L2 in zip ( Lista_01, Lista_02 ):\n",
        "  print('L1:', L1)\n",
        "  print('L2:', L2)"
      ],
      "metadata": {
        "colab": {
          "base_uri": "https://localhost:8080/"
        },
        "id": "MdNYqUI12uIC",
        "outputId": "24971628-3516-4d6f-f0b9-8c6931c0157e"
      },
      "execution_count": null,
      "outputs": [
        {
          "output_type": "stream",
          "name": "stdout",
          "text": [
            "L1: 1\n",
            "L2: 48\n",
            "L1: 1\n",
            "L2: 93\n",
            "L1: 0\n",
            "L2: 38\n",
            "L1: 0\n",
            "L2: 82\n",
            "L1: 1\n",
            "L2: 28\n"
          ]
        }
      ]
    },
    {
      "cell_type": "code",
      "source": [
        "# While\n",
        "Loop = 0\n",
        "\n",
        "while Loop < 10:\n",
        "  print( Loop )\n",
        "  Loop += 1"
      ],
      "metadata": {
        "colab": {
          "base_uri": "https://localhost:8080/"
        },
        "id": "zZ8Cr5La231B",
        "outputId": "41eaa559-7e3b-47a7-9a0d-b3a3a76e2d71"
      },
      "execution_count": null,
      "outputs": [
        {
          "output_type": "stream",
          "name": "stdout",
          "text": [
            "0\n",
            "1\n",
            "2\n",
            "3\n",
            "4\n",
            "5\n",
            "6\n",
            "7\n",
            "8\n",
            "9\n"
          ]
        }
      ]
    },
    {
      "cell_type": "code",
      "source": [
        "# While + IF + Break\n",
        "\n",
        "Loop = 0\n",
        "\n",
        "while Loop < 10:\n",
        "  print( Loop )\n",
        "  Loop += 1\n",
        "\n",
        "  if Loop == 5:\n",
        "    break"
      ],
      "metadata": {
        "colab": {
          "base_uri": "https://localhost:8080/"
        },
        "id": "aMN6QHGl4wT-",
        "outputId": "86f7282e-2556-4b86-e108-7e3c7c6e0561"
      },
      "execution_count": null,
      "outputs": [
        {
          "output_type": "stream",
          "name": "stdout",
          "text": [
            "0\n",
            "1\n",
            "2\n",
            "3\n",
            "4\n"
          ]
        }
      ]
    },
    {
      "cell_type": "code",
      "source": [
        "# While Infinito\n",
        "\n",
        "while True:\n",
        "  \n",
        "  Maquina_01 = randint(0,6)\n",
        "  Maquina_02 = randint(5,8)\n",
        "\n",
        "  if Maquina_01 > Maquina_02:\n",
        "    \n",
        "    print(Maquina_01, '<>', Maquina_02, 'Maquina 1 ganhou FINALMENTE !!!')\n",
        "    break\n",
        "  else:\n",
        "    print( Maquina_01, '<>', Maquina_02, 'Maquina 2 ganhou !!!')\n",
        "    pass"
      ],
      "metadata": {
        "colab": {
          "base_uri": "https://localhost:8080/"
        },
        "id": "EIzYmZ3k5Hc7",
        "outputId": "e085513a-f642-45f7-a9f7-7977f060d1d7"
      },
      "execution_count": null,
      "outputs": [
        {
          "output_type": "stream",
          "name": "stdout",
          "text": [
            "2 <> 8 Maquina 2 ganhou !!!\n",
            "1 <> 7 Maquina 2 ganhou !!!\n",
            "5 <> 6 Maquina 2 ganhou !!!\n",
            "6 <> 5 Maquina 1 ganhou FINALMENTE !!!\n"
          ]
        }
      ]
    },
    {
      "cell_type": "code",
      "source": [
        "# While Infinito - Menor de 3\n",
        "\n",
        "Maquina1 = 0\n",
        "Maquina2 = 0\n",
        "\n",
        "while True:\n",
        "  \n",
        "  Maquina_01 = randint(0,10)\n",
        "  Maquina_02 = randint(0,10)\n",
        "\n",
        "  if Maquina_01 > Maquina_02:\n",
        "    Maquina1 += 1\n",
        "  else:\n",
        "    Maquina2 += 1\n",
        "\n",
        "  if Maquina1 >= 3 or Maquina2 >= 3:\n",
        "    break\n",
        "\n",
        "print(' **** Placar Final **** ')\n",
        "print(f'Player1 {Maquina1} x {Maquina2} Player2 ')"
      ],
      "metadata": {
        "colab": {
          "base_uri": "https://localhost:8080/"
        },
        "id": "wYMEALL55Z3t",
        "outputId": "225a0857-3ff9-4078-e382-bf4c06286e1a"
      },
      "execution_count": null,
      "outputs": [
        {
          "output_type": "stream",
          "name": "stdout",
          "text": [
            " **** Placar Final **** \n",
            "Player1 2 x 3 Player2 \n"
          ]
        }
      ]
    },
    {
      "cell_type": "code",
      "source": [
        "# Função simples\n",
        "def Soma( valor1, valor2):\n",
        "  Soma = valor1 + valor2\n",
        "  print( Soma )\n",
        "\n",
        "Soma(11, 9)"
      ],
      "metadata": {
        "colab": {
          "base_uri": "https://localhost:8080/"
        },
        "id": "Rs04Ekyr7TAy",
        "outputId": "36a159e9-c2c8-41be-8b07-a8151b889834"
      },
      "execution_count": null,
      "outputs": [
        {
          "output_type": "stream",
          "name": "stdout",
          "text": [
            "20\n"
          ]
        }
      ]
    },
    {
      "cell_type": "code",
      "source": [
        "# Função + FOR\n",
        "\n",
        "def Sobrenome ( Nome ):\n",
        "  print( f'Nome dele(a) é {Nome}' )\n",
        "\n",
        "Lista = ['Odemir','Lucas', 'Luigi']\n",
        "\n",
        "for Nome in Lista:\n",
        "  Sobrenome(Nome)"
      ],
      "metadata": {
        "colab": {
          "base_uri": "https://localhost:8080/"
        },
        "id": "LZFRXT_17ybs",
        "outputId": "6f8753c6-48d3-45e9-d766-482ba629dd73"
      },
      "execution_count": null,
      "outputs": [
        {
          "output_type": "stream",
          "name": "stdout",
          "text": [
            "Nome dele(a) é Odemir\n",
            "Nome dele(a) é Lucas\n",
            "Nome dele(a) é Luigi\n"
          ]
        }
      ]
    },
    {
      "cell_type": "code",
      "source": [
        "# Funcão lambda \n",
        "Funcao_01 = lambda a : a + 10\n",
        "print( Funcao_01(10) )\n",
        "\n",
        "Funcao_02 = lambda Valor1, Valor2 : Valor1 + Valor2\n",
        "print( Funcao_02(10,10) )"
      ],
      "metadata": {
        "colab": {
          "base_uri": "https://localhost:8080/"
        },
        "id": "-4OA_RHT7znG",
        "outputId": "a18695fa-a77e-4e5b-8424-e764af1b68d8"
      },
      "execution_count": null,
      "outputs": [
        {
          "output_type": "stream",
          "name": "stdout",
          "text": [
            "20\n",
            "20\n"
          ]
        }
      ]
    },
    {
      "cell_type": "code",
      "source": [
        "# Não recomendo\n",
        "Nao_Faca_Isso = lambda x: True if x % 2 == 0 else False\n",
        "\n",
        "Nao_Faca_Isso( 100 )"
      ],
      "metadata": {
        "colab": {
          "base_uri": "https://localhost:8080/"
        },
        "id": "dqvqX9Ju_iGF",
        "outputId": "8a68f23b-c76b-461c-dce4-77b70a58cc12"
      },
      "execution_count": null,
      "outputs": [
        {
          "output_type": "execute_result",
          "data": {
            "text/plain": [
              "True"
            ]
          },
          "metadata": {},
          "execution_count": 141
        }
      ]
    },
    {
      "cell_type": "code",
      "source": [
        "# Classes/Objetos\n",
        "class Pessoa:\n",
        "\n",
        "  def __init__(self, Nome, Idade):\n",
        "    self.Nome = Nome\n",
        "    self.Idade = Idade\n",
        "\n",
        "  def Boas_Vindas(self):\n",
        "    print( f'Ola senhor(a) {self.Nome}' )\n",
        "\n",
        "  def Maior_Idade(self):\n",
        "    if self.Idade >= 18:\n",
        "      print('Pessoa maior de Idade')\n",
        "      self.Boas_Vindas()\n",
        "\n",
        "    else:\n",
        "      print('Menor de Idade')\n",
        "\n",
        "Dados = Pessoa('Luigi', 20)"
      ],
      "metadata": {
        "id": "8svYtY4VAes1"
      },
      "execution_count": null,
      "outputs": []
    },
    {
      "cell_type": "code",
      "source": [
        "Dados.Maior_Idade()"
      ],
      "metadata": {
        "colab": {
          "base_uri": "https://localhost:8080/"
        },
        "id": "rhD8YgakBY02",
        "outputId": "5e1be4a8-47ba-4a30-e1f1-40dfb654d82c"
      },
      "execution_count": null,
      "outputs": [
        {
          "output_type": "stream",
          "name": "stdout",
          "text": [
            "Pessoa maior de Idade\n",
            "Ola senhor(a) Luigi\n"
          ]
        }
      ]
    }
  ]
}